{
 "cells": [
  {
   "cell_type": "markdown",
   "metadata": {},
   "source": [
    "## Maze generation algorithm\n",
    "1. Depth first search\n",
    "2. Recursive backtracker"
   ]
  },
  {
   "cell_type": "code",
   "execution_count": 215,
   "metadata": {},
   "outputs": [
    {
     "name": "stderr",
     "output_type": "stream",
     "text": [
      "C:\\Anaconda\\lib\\site-packages\\ipykernel_launcher.py:20: DeprecationWarning: This function is deprecated. Please call randint(0, 40 + 1) instead\n",
      "C:\\Anaconda\\lib\\site-packages\\ipykernel_launcher.py:20: DeprecationWarning: This function is deprecated. Please call randint(0, 20 + 1) instead\n",
      "C:\\Anaconda\\lib\\site-packages\\ipykernel_launcher.py:29: DeprecationWarning: This function is deprecated. Please call randint(0, 3 + 1) instead\n",
      "C:\\Anaconda\\lib\\site-packages\\ipykernel_launcher.py:29: DeprecationWarning: This function is deprecated. Please call randint(0, 2 + 1) instead\n",
      "C:\\Anaconda\\lib\\site-packages\\ipykernel_launcher.py:29: DeprecationWarning: This function is deprecated. Please call randint(0, 1 + 1) instead\n"
     ]
    },
    {
     "data": {
      "image/png": "[encoded data removed]",
      "text/plain": [
       "<matplotlib.figure.Figure at 0x17513ce52e8>"
      ]
     },
     "metadata": {},
     "output_type": "display_data"
    }
   ],
   "source": [
    "#This one creates loops\n",
    "import numpy as np\n",
    "from numpy.random import random_integers as rand\n",
    "import matplotlib.pyplot as pyplot\n",
    "%matplotlib inline\n",
    "\n",
    "def maze(width=4, height=4, complexity=.75, density=.75):\n",
    "    # Only odd shapes\n",
    "    shape = ((height // 2) * 2 + 1, (width // 2) * 2 + 1)\n",
    "    # Adjust complexity and density relative to maze size\n",
    "    complexity = int(complexity * (5 * (shape[0] + shape[1])))\n",
    "    density    = int(density * ((shape[0] // 2) * (shape[1] // 2)))\n",
    "    # Build actual maze\n",
    "    Z = numpy.zeros(shape, dtype=bool)\n",
    "    # Fill borders\n",
    "    Z[0, :] = Z[-1, :] = 1\n",
    "    Z[:, 0] = Z[:, -1] = 1\n",
    "    # Make aisles\n",
    "    for i in range(density):\n",
    "        x, y = rand(0, shape[1] // 2) * 2, rand(0, shape[0] // 2) * 2\n",
    "        Z[y, x] = 1\n",
    "        for j in range(complexity):\n",
    "            neighbours = []\n",
    "            if x > 1:             neighbours.append((y, x - 2))\n",
    "            if x < shape[1] - 2:  neighbours.append((y, x + 2))\n",
    "            if y > 1:             neighbours.append((y - 2, x))\n",
    "            if y < shape[0] - 2:  neighbours.append((y + 2, x))\n",
    "            if len(neighbours):\n",
    "                y_,x_ = neighbours[rand(0, len(neighbours) - 1)]\n",
    "                if Z[y_, x_] == 0:\n",
    "                    Z[y_, x_] = 1\n",
    "                    Z[y_ + (y - y_) // 2, x_ + (x - x_) // 2] = 1\n",
    "                    x, y = x_, y_\n",
    "    return Z\n",
    "\n",
    "pyplot.figure(figsize=(10, 5))\n",
    "pyplot.imshow(maze(80, 40), cmap=pyplot.cm.binary, interpolation='nearest')\n",
    "pyplot.xticks([]), pyplot.yticks([])\n",
    "pyplot.savefig(\"maze.png\")"
   ]
  },
  {
   "cell_type": "code",
   "execution_count": 103,
   "metadata": {},
   "outputs": [
    {
     "name": "stdout",
     "output_type": "stream",
     "text": [
      "[[1. 0. 0. 0. 0. 0. 0. 0.]\n",
      " [0. 1. 0. 0. 0. 0. 0. 0.]\n",
      " [0. 0. 1. 0. 0. 0. 0. 0.]\n",
      " [0. 0. 0. 1. 0. 0. 0. 0.]\n",
      " [0. 0. 0. 0. 1. 0. 0. 0.]\n",
      " [0. 0. 0. 0. 0. 1. 0. 0.]\n",
      " [0. 0. 0. 0. 0. 0. 0. 1.]\n",
      " [0. 0. 0. 0. 0. 0. 1. 0.]]\n"
     ]
    }
   ],
   "source": [
    "#Create one step of a QRW\n",
    "import pyquil\n",
    "from pyquil.quil import Program\n",
    "from pyquil.api import QVMConnection\n",
    "from pyquil.gates import *\n",
    "\n",
    "def createToffoli():\n",
    "    identity = np.identity(8)\n",
    "    identity[[6],[6]] = 0\n",
    "    identity[[6],[7]] = 1\n",
    "    identity[[7],[7]] = 0\n",
    "    identity[[7],[6]] = 1\n",
    "    return identity\n",
    "\n",
    "print(createToffoli())"
   ]
  },
  {
   "cell_type": "code",
   "execution_count": 104,
   "metadata": {},
   "outputs": [
    {
     "name": "stdout",
     "output_type": "stream",
     "text": [
      "DEFGATE Toffoli:\n",
      "    1.0, 0, 0, 0, 0, 0, 0, 0\n",
      "    0, 1.0, 0, 0, 0, 0, 0, 0\n",
      "    0, 0, 1.0, 0, 0, 0, 0, 0\n",
      "    0, 0, 0, 1.0, 0, 0, 0, 0\n",
      "    0, 0, 0, 0, 1.0, 0, 0, 0\n",
      "    0, 0, 0, 0, 0, 1.0, 0, 0\n",
      "    0, 0, 0, 0, 0, 0, 0, 1.0\n",
      "    0, 0, 0, 0, 0, 0, 1.0, 0\n",
      "\n",
      "X 0\n",
      "X 1\n",
      "Toffoli 0 1 2\n",
      "MEASURE 2 [2]\n",
      "MEASURE 0 [0]\n",
      "MEASURE 1 [1]\n",
      "\n"
     ]
    },
    {
     "data": {
      "text/plain": [
       "[[1, 1, 1]]"
      ]
     },
     "execution_count": 104,
     "metadata": {},
     "output_type": "execute_result"
    }
   ],
   "source": [
    "#Creating a Toffoli and checking\n",
    "qvm = QVMConnection()\n",
    "Toffoli =  createToffoli()\n",
    "prog = Program()\n",
    "prog.defgate('Toffoli', Toffoli)\n",
    "\n",
    "prog.inst(X(0),X(1))\n",
    "prog.inst(('Toffoli', 0,1,2)).measure(2,2).measure(0,0).measure(1,1)\n",
    "print(prog)\n",
    "classical_regs  = [0,1,2]\n",
    "qvm.run(prog, classical_regs)"
   ]
  },
  {
   "cell_type": "code",
   "execution_count": 105,
   "metadata": {},
   "outputs": [
    {
     "name": "stdout",
     "output_type": "stream",
     "text": [
      "DEFGATE invToffoli:\n",
      "    0, 1.0, 0, 0, 0, 0, 0, 0\n",
      "    1.0, 0, 0, 0, 0, 0, 0, 0\n",
      "    0, 0, 1.0, 0, 0, 0, 0, 0\n",
      "    0, 0, 0, 1.0, 0, 0, 0, 0\n",
      "    0, 0, 0, 0, 1.0, 0, 0, 0\n",
      "    0, 0, 0, 0, 0, 1.0, 0, 0\n",
      "    0, 0, 0, 0, 0, 0, 1.0, 0\n",
      "    0, 0, 0, 0, 0, 0, 0, 1.0\n",
      "\n",
      "invToffoli 0 1 2\n",
      "MEASURE 0 [0]\n",
      "MEASURE 1 [1]\n",
      "MEASURE 2 [2]\n",
      "\n"
     ]
    },
    {
     "data": {
      "text/plain": [
       "[[0, 0, 1]]"
      ]
     },
     "execution_count": 105,
     "metadata": {},
     "output_type": "execute_result"
    }
   ],
   "source": [
    "def inverseToffoli():\n",
    "    identity = np.identity(8)\n",
    "    identity[[0],[0]] = 0\n",
    "    identity[[0],[1]] = 1\n",
    "    identity[[1],[1]] = 0\n",
    "    identity[[1],[0]] = 1\n",
    "    return identity\n",
    "invToffoli = inverseToffoli()\n",
    "\n",
    "prog = Program()\n",
    "prog.defgate('invToffoli', invToffoli)\n",
    "prog.inst(('invToffoli', 0,1,2)).measure(0,0).measure(1,1).measure(2,2)\n",
    "print(prog)\n",
    "qvm.run(prog, classical_regs)"
   ]
  },
  {
   "cell_type": "code",
   "execution_count": 132,
   "metadata": {},
   "outputs": [
    {
     "name": "stdout",
     "output_type": "stream",
     "text": [
      "DEFGATE controlSWAP:\n",
      "    1.0, 0, 0, 0, 0, 0, 0, 0\n",
      "    0, 1.0, 0, 0, 0, 0, 0, 0\n",
      "    0, 0, 1.0, 0, 0, 0, 0, 0\n",
      "    0, 0, 0, 1.0, 0, 0, 0, 0\n",
      "    0, 0, 0, 0, 1.0, 0, 0, 0\n",
      "    0, 0, 0, 0, 0, 0, 1.0, 0\n",
      "    0, 0, 0, 0, 0, 1.0, 0, 0\n",
      "    0, 0, 0, 0, 0, 0, 0, 1.0\n",
      "\n",
      "X 0\n",
      "X 1\n",
      "controlSWAP 0 1 2\n",
      "MEASURE 0 [0]\n",
      "MEASURE 1 [1]\n",
      "MEASURE 2 [2]\n",
      "\n"
     ]
    },
    {
     "data": {
      "text/plain": [
       "[[1, 0, 1]]"
      ]
     },
     "execution_count": 132,
     "metadata": {},
     "output_type": "execute_result"
    }
   ],
   "source": [
    "def controlSWAPdef():\n",
    "    identity = np.identity(8)\n",
    "    identity[[5],[5]] = 0\n",
    "    identity[[5],[6]] = 1\n",
    "    identity[[6],[6]] = 0\n",
    "    identity[[6],[5]] = 1\n",
    "    return identity\n",
    "\n",
    "prog = Program()\n",
    "controlSWAP = controlSWAPdef()\n",
    "prog.defgate('controlSWAP', controlSWAP)\n",
    "prog.inst(X(0), X(1), ('controlSWAP',0,1,2)).measure(0,0).measure(1,1).measure(2,2)\n",
    "print(prog)\n",
    "qvm.run(prog, classical_regs)"
   ]
  },
  {
   "cell_type": "code",
   "execution_count": 108,
   "metadata": {},
   "outputs": [
    {
     "data": {
      "text/plain": [
       "[[1, 0],\n",
       " [1, 1],\n",
       " [1, 1],\n",
       " [1, 1],\n",
       " [1, 0],\n",
       " [1, 1],\n",
       " [1, 0],\n",
       " [1, 1],\n",
       " [1, 0],\n",
       " [1, 0]]"
      ]
     },
     "execution_count": 108,
     "metadata": {},
     "output_type": "execute_result"
    }
   ],
   "source": [
    "def controlHadamard():\n",
    "    identity = np.identity(4)\n",
    "    identity[[2],[2]] = 1/np.sqrt(2)\n",
    "    identity[[2],[3]] = 1/np.sqrt(2)\n",
    "    identity[[3],[2]] = 1/np.sqrt(2)\n",
    "    identity[[3],[3]] = -1/np.sqrt(2)\n",
    "    return identity\n",
    "\n",
    "controlH = controlHadamard()\n",
    "prog = Program()\n",
    "prog.defgate('controlH', controlH)\n",
    "prog.inst(X(0), ('controlH', 0,1)).measure(0,0).measure(1,1)\n",
    "reg = [0,1]\n",
    "qvm.run(prog, reg, trials = 10)\n"
   ]
  },
  {
   "cell_type": "raw",
   "metadata": {},
   "source": [
    "def defineGates(prog):\n",
    "    controlH = controlHadamard()\n",
    "    prog.defgate('controlH', controlH)\n",
    "    \n",
    "    controlSWAP = controlSWAP()\n",
    "    prog.defgate('controlSWAP', controlSWAP)\n",
    "    \n",
    "    invToffoli = inverseToffoli()\n",
    "    prog.defgate('invToffoli', invToffoli)\n",
    "    \n",
    "    Toffoli =  createToffoli()\n",
    "    prog.defgate('Toffoli', Toffoli)\n",
    "    \n",
    "    return prog\n",
    "\n",
    "def quantumRandomWalk(program):\n",
    "    program.inst(('Toffoli', 0,4,5))\n",
    "    program.inst(('Toffoli', 1,4,6))\n",
    "    program.inst(('invToffoli', 0,4,5))\n",
    "    program.inst(('invToffoli', 1,4,6))\n",
    "    \n",
    "    program.inst(('Toffoli', 2,4,7))\n",
    "    program.inst(('Toffoli', 3,4,8))\n",
    "    program.inst(('invToffoli', 2,4,7))\n",
    "    program.inst(('invToffoli', 3,4,8))\n",
    "    \n",
    "    program.inst(('Toffoli', 9,11,13))\n",
    "    program.inst(('Toffoli', 10,12,14))\n",
    "    \n",
    "    program.inst(('Toffoli', 4,13,15))\n",
    "    program.inst(('Toffoli', 4,14,16))\n",
    "    \n",
    "    program.inst(('controlSWAP', 15,7,5))\n",
    "    program.inst(('controlSWAP', 16,8,6))\n",
    "    \n",
    "    program.inst(('Toffoli', 4,13,15))\n",
    "    program.inst(('Toffoli', 4,14,16))\n",
    "    \n",
    "    program.inst(('Toffoli', 9,11,13))\n",
    "    program.inst(('Toffoli', 10,12,14))\n",
    "    \n",
    "    program.inst(('Toffoli', 2,4,7))\n",
    "    program.inst(('Toffoli', 3,4,8))\n",
    "    program.inst(('invToffoli', 2,4,7))\n",
    "    program.inst(('invToffoli', 3,4,8))\n",
    "    \n",
    "    program.inst(('Toffoli', 0,4,5))\n",
    "    program.inst(('Toffoli', 1,4,6))\n",
    "    program.inst(('invToffoli', 0,4,5))\n",
    "    program.inst(('invToffoli', 1,4,6))\n",
    "    \n",
    "    program.inst(('controlH', 5,7))\n",
    "    program.inst(('controlH', 6,8))\n",
    "    \n",
    "    return(program)\n"
   ]
  },
  {
   "cell_type": "code",
   "execution_count": 183,
   "metadata": {},
   "outputs": [],
   "source": [
    "def quantumRandomWalk(program):\n",
    "    \n",
    "    program.inst(('Toffoli', 0,3,5))\n",
    "    \n",
    "    program.inst(('invToffoli', 0,3,5))\n",
    "    \n",
    "    program.inst(('Toffoli', 1,4,6))\n",
    "    \n",
    "    program.inst(('invToffoli', 1,4,6))\n",
    "    \n",
    "    program.inst(('Toffoli', 5,6,7))\n",
    "    \n",
    "    program.inst(('Toffoli', 2,7,8))\n",
    "    \n",
    "    program.inst(('controlSWAP', 8,4,3))\n",
    "    \n",
    "    program.inst(('Toffoli', 2,7,8))\n",
    "    \n",
    "    program.inst(('Toffoli', 5,6,7))\n",
    "    \n",
    "    program.inst(('invToffoli', 1,4,6))\n",
    "    \n",
    "    program.inst(('Toffoli', 1,4,6))\n",
    "    \n",
    "    program.inst(('invToffoli', 0,3,5))\n",
    "    \n",
    "    program.inst(('Toffoli', 0,3,5))\n",
    "    \n",
    "    program.inst(('controlH', 3,4))\n",
    "    \n",
    "    return(program)\n",
    "\n",
    "def quantumRandomWalk_nQubits(program, n):\n",
    "    for i in range(n-1):\n",
    "        Gx = i\n",
    "        Gy = n+i\n",
    "        A = 2*n\n",
    "        Psi_x = 2*n+1+i\n",
    "        Psi_y = 3*n+1+i\n",
    "        ancilla1 = 4*n+1+i\n",
    "        ancilla2 = 5*n+1+i\n",
    "        ancilla3 = 6*n+1+i\n",
    "        ancilla4  = 7*n+1+i\n",
    "        \n",
    "        program.inst(('Toffoli', Gx, Psi_x, ancilla1 ))\n",
    "        \n",
    "        program.inst(('invToffoli', Gx, Psi_x, ancilla1))\n",
    "        \n",
    "        program.inst(('Toffoli', Gy, Psi_y, ancilla2))\n",
    "        \n",
    "        program.inst(('invToffoli', Gy, Psi_y, ancilla2))\n",
    "        \n",
    "        program.inst(('Toffoli', ancilla1, ancilla2, ancilla3))\n",
    "        \n",
    "        program.inst(('Toffoli', A, ancilla3, ancilla4))\n",
    "\n",
    "        program.inst(('controlSWAP', ancilla4, Psi_x, Psi_y))\n",
    "        \n",
    "        program.inst(('Toffoli', A, ancilla3, ancilla4))\n",
    "        \n",
    "        program.inst(('Toffoli', ancilla1, ancilla2, ancilla3))\n",
    "        \n",
    "        program.inst(('invToffoli', Gy, Psi_y, ancilla2))\n",
    "        \n",
    "        program.inst(('Toffoli', Gy, Psi_y, ancilla2))\n",
    "        \n",
    "        program.inst(('invToffoli', i, Psi_x, ancilla1))\n",
    "        \n",
    "        program.inst(('Toffoli', i, Psi_x, ancilla1))\n",
    "        \n",
    "        program.inst(('controlH', Psi_x, Psi_y))\n",
    "        \n",
    "        return(program)"
   ]
  },
  {
   "cell_type": "code",
   "execution_count": 188,
   "metadata": {},
   "outputs": [],
   "source": [
    "def defineGates():\n",
    "    prog = Program()\n",
    "    controlH = controlHadamard()\n",
    "    prog.defgate('controlH', controlH)\n",
    "\n",
    "    controlSWAPgate = controlSWAPdef() \n",
    "    prog.defgate('controlSWAP', controlSWAPgate)\n",
    "\n",
    "    invToffoli = inverseToffoli()\n",
    "    prog.defgate('invToffoli', invToffoli)\n",
    "\n",
    "    Toffoli =  createToffoli()\n",
    "    prog.defgate('Toffoli', Toffoli)\n",
    "    \n",
    "    return(prog)"
   ]
  },
  {
   "cell_type": "code",
   "execution_count": 141,
   "metadata": {},
   "outputs": [],
   "source": [
    "def initialise(prog):\n",
    "    init_gate = np.identity(2**3)\n",
    "    for i in [2,3,4,5]:\n",
    "        init_gate[i,i] = 0.\n",
    "    init_gate[2,3] = 1.\n",
    "    init_gate[3,2] = 1.\n",
    "    init_gate[4,5] = 1.\n",
    "    init_gate[5,4] = 1.\n",
    "\n",
    "\n",
    "    prog.defgate(\"INIT\", init_gate)\n",
    "    prog += H(0)\n",
    "    prog += H(1) \n",
    "    prog.inst((\"INIT\",0,1,2))\n",
    "\n",
    "    qvm = QVMConnection()\n",
    "    print(qvm.wavefunction(prog))\n",
    "    \n",
    "    return prog\n",
    "    #results = qvm.run(prog,[0,1,2],1)\n",
    "    #print(results)"
   ]
  },
  {
   "cell_type": "code",
   "execution_count": 214,
   "metadata": {},
   "outputs": [
    {
     "name": "stdout",
     "output_type": "stream",
     "text": [
      "(0.5+0j)|000> + (0.5+0j)|011> + (0.5+0j)|101> + (0.5+0j)|110>\n"
     ]
    },
    {
     "name": "stderr",
     "output_type": "stream",
     "text": [
      "C:\\Anaconda\\lib\\site-packages\\pyquil\\quil.py:128: UserWarning: Gate controlH has already been defined in this program\n",
      "  warnings.warn(\"Gate {} has already been defined in this program\".format(instruction.name))\n",
      "C:\\Anaconda\\lib\\site-packages\\pyquil\\quil.py:128: UserWarning: Gate controlSWAP has already been defined in this program\n",
      "  warnings.warn(\"Gate {} has already been defined in this program\".format(instruction.name))\n",
      "C:\\Anaconda\\lib\\site-packages\\pyquil\\quil.py:128: UserWarning: Gate invToffoli has already been defined in this program\n",
      "  warnings.warn(\"Gate {} has already been defined in this program\".format(instruction.name))\n",
      "C:\\Anaconda\\lib\\site-packages\\pyquil\\quil.py:128: UserWarning: Gate Toffoli has already been defined in this program\n",
      "  warnings.warn(\"Gate {} has already been defined in this program\".format(instruction.name))\n",
      "C:\\Anaconda\\lib\\site-packages\\pyquil\\quil.py:128: UserWarning: Gate INIT has already been defined in this program\n",
      "  warnings.warn(\"Gate {} has already been defined in this program\".format(instruction.name))\n"
     ]
    },
    {
     "name": "stdout",
     "output_type": "stream",
     "text": [
      "[[0], [0], [1], [0], [0], [0], [0], [0], [0], [0], [0], [1], [1], [0], [0], [1], [0], [0], [0], [1], [0], [0], [0], [0], [0], [0], [0], [0], [0], [0], [0], [1], [0], [1], [0], [1], [1], [0], [1], [0], [0], [0], [0], [0], [0], [0], [0], [1], [0], [0]]\n",
      "11\n"
     ]
    }
   ],
   "source": [
    "prog = Program()\n",
    "prog = defineGates()\n",
    "prog += initialise(prog)\n",
    "prog += H(4)\n",
    "for i in range(3):\n",
    "    prog  += quantumRandomWalk(prog)\n",
    "prog.measure(4,4)\n",
    "\n",
    "qubits  = [x for x in range(9)]\n",
    "output = qvm.run(prog, [4], trials = 50)\n",
    "print(output)\n",
    "print(np.sum(output))"
   ]
  },
  {
   "cell_type": "code",
   "execution_count": 169,
   "metadata": {},
   "outputs": [],
   "source": [
    "from scipy import linalg\n",
    "data = np.loadtxt(\"data3.txt\")\n",
    "decimal_data = np.zeros(len(data[:,0]))\n",
    "decimal_data = data[:,0] * 2**4 + data[:,1] * 2**3 + data[:,2] * 2**2 + data[:,3] * 2**1 + data[:,4]\n",
    "decimal_data = decimal_data.astype(int)\n"
   ]
  },
  {
   "cell_type": "code",
   "execution_count": 207,
   "metadata": {},
   "outputs": [
    {
     "name": "stdout",
     "output_type": "stream",
     "text": [
      "(0.25+0j)|0000> + (0.25+0j)|0001> + (0.25+0j)|0010> + (0.25+0j)|0011> + (0.25+0j)|0100> + (0.25+0j)|0101> + (0.25+0j)|0110> + (0.25+0j)|0111> + (0.25+0j)|1000> + (0.25+0j)|1001> + (0.25+0j)|1010> + (0.25+0j)|1011> + (0.25+0j)|1100> + (0.25+0j)|1101> + (0.25+0j)|1110> + (0.25+0j)|1111>\n"
     ]
    },
    {
     "name": "stderr",
     "output_type": "stream",
     "text": [
      "C:\\Anaconda\\lib\\site-packages\\pyquil\\quil.py:128: UserWarning: Gate controlH has already been defined in this program\n",
      "  warnings.warn(\"Gate {} has already been defined in this program\".format(instruction.name))\n",
      "C:\\Anaconda\\lib\\site-packages\\pyquil\\quil.py:128: UserWarning: Gate controlSWAP has already been defined in this program\n",
      "  warnings.warn(\"Gate {} has already been defined in this program\".format(instruction.name))\n",
      "C:\\Anaconda\\lib\\site-packages\\pyquil\\quil.py:128: UserWarning: Gate invToffoli has already been defined in this program\n",
      "  warnings.warn(\"Gate {} has already been defined in this program\".format(instruction.name))\n",
      "C:\\Anaconda\\lib\\site-packages\\pyquil\\quil.py:128: UserWarning: Gate Toffoli has already been defined in this program\n",
      "  warnings.warn(\"Gate {} has already been defined in this program\".format(instruction.name))\n",
      "C:\\Anaconda\\lib\\site-packages\\pyquil\\quil.py:128: UserWarning: Gate INIT has already been defined in this program\n",
      "  warnings.warn(\"Gate {} has already been defined in this program\".format(instruction.name))\n"
     ]
    },
    {
     "name": "stdout",
     "output_type": "stream",
     "text": [
      "[[0, 0], [0, 0], [0, 0], [0, 0], [0, 0], [0, 0], [0, 0], [1, 0], [0, 0], [0, 0], [0, 0], [0, 0], [0, 0], [0, 0], [0, 0], [0, 0], [0, 0], [0, 0], [0, 0], [0, 0], [0, 0], [0, 0], [0, 0], [0, 0], [0, 0], [0, 0], [0, 0], [0, 0], [0, 0], [0, 0], [1, 0], [0, 0], [1, 0], [1, 0], [0, 0], [0, 0], [0, 0], [0, 0], [0, 0], [1, 0], [0, 0], [0, 0], [0, 0], [0, 0], [0, 0], [0, 0], [0, 0], [0, 0], [0, 0], [0, 0]]\n",
      "[5 0]\n"
     ]
    }
   ],
   "source": [
    "from pyquil.latex import to_latex\n",
    "p = defineGates()\n",
    "p += H(0)\n",
    "p += H(1)\n",
    "p += H(2)\n",
    "p += H(3)\n",
    "qvm = QVMConnection()\n",
    "print(qvm.wavefunction(p))\n",
    "\n",
    "dict = {}\n",
    "for i in range(2**4):\n",
    "    if i in decimal_data:\n",
    "        dict[i] = np.array([[1.,0.],[0.,1.]])\n",
    "    else:\n",
    "        dict[i] = np.array([[0.,1],[1.,0.]])\n",
    "init_gate = linalg.block_diag(dict[0], dict[1], dict[2], dict[3], dict[4], dict[5], dict[6], dict[7], dict[8], dict[9], dict[10],\n",
    "                 dict[11], dict[12], dict[13],dict[14],dict[15])\n",
    "\n",
    "p.defgate(\"INIT\", init_gate) \n",
    "p.inst((\"INIT\",0,1,2,3,4))\n",
    "\n",
    "#p += defineGates(p)\n",
    "p.inst(H(7), H(8))\n",
    "for i in range(5):\n",
    "    p += quantumRandomWalk_nQubits(p, 2)\n",
    "p.measure(7,7).measure(8,8)\n",
    "output = qvm.run(p, [7,8], trials = 50)\n",
    "print(output)\n",
    "print(np.sum(output,axis=0))\n",
    "#print(to_latex(prog1))"
   ]
  },
  {
   "cell_type": "code",
   "execution_count": null,
   "metadata": {},
   "outputs": [],
   "source": []
  }
 ],
 "metadata": {
  "kernelspec": {
   "display_name": "Python 3",
   "language": "python",
   "name": "python3"
  },
  "language_info": {
   "codemirror_mode": {
    "name": "ipython",
    "version": 3
   },
   "file_extension": ".py",
   "mimetype": "text/x-python",
   "name": "python",
   "nbconvert_exporter": "python",
   "pygments_lexer": "ipython3",
   "version": "3.4.4"
  }
 },
 "nbformat": 4,
 "nbformat_minor": 2
}
