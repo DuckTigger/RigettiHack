{
 "cells": [
  {
   "cell_type": "markdown",
   "metadata": {},
   "source": [
    "# Process Tomography of the CZ gates"
   ]
  },
  {
   "cell_type": "code",
   "execution_count": 2,
   "metadata": {},
   "outputs": [],
   "source": [
    "import numpy as np\n",
    "from pyquil.quil import Program\n",
    "from pyquil.api import QVMConnection\n",
    "from pyquil.gates import *\n",
    "\n",
    "qvm = QVMConnection()\n",
    "\n",
    "from grove.tomography.process_tomography import do_process_tomography\n",
    "from grove.tomography.utils import notebook_mode\n",
    "from pyquil.api import QPUConnection, get_devices, Job\n",
    "from mock import MagicMock\n",
    "import json\n",
    "from __future__ import print_function\n",
    "import matplotlib.pyplot as plt\n",
    "\n",
    "#Fake QPU\n",
    "qpu = MagicMock(QPUConnection)\n",
    "qpu_job = MagicMock(Job)\n",
    "qpu.wait_for_job.return_value = qpu_job\n",
    "qpu_job.result.side_effect = json.load(open(\"qpu.json\", 'r'))\n",
    "\n",
    "#To do\n",
    "all_qubits = np.array([[0,5],[0,6],[1,6],[1,7],[2,7],[2,8],[4,9],[5,10],[6,11],\n",
    "                      [7,12],[8,13],[9,14],[10,15], [10,16],[11,16],[11,17],[12,17],\n",
    "                      [12,18],[13,18],[13,19],[14,19]])\n"
   ]
  },
  {
   "cell_type": "code",
   "execution_count": null,
   "metadata": {},
   "outputs": [
    {
     "name": "stderr",
     "output_type": "stream",
     "text": [
      "\r",
      "  0%|          | 0/4 [00:00<?, ?it/s]"
     ]
    },
    {
     "name": "stdout",
     "output_type": "stream",
     "text": [
      "Running process tomography on the QVM for reference...\n"
     ]
    },
    {
     "name": "stderr",
     "output_type": "stream",
     "text": [
      "100%|██████████| 4/4 [00:01<00:00,  2.66it/s]\n",
      "100%|██████████| 4/4 [00:01<00:00,  2.28it/s]\n",
      "100%|██████████| 256/256 [00:58<00:00,  4.38it/s]\n",
      "100%|██████████| 256/256 [02:07<00:00,  2.00it/s]\n",
      "  0%|          | 0/4 [00:00<?, ?it/s]"
     ]
    },
    {
     "name": "stdout",
     "output_type": "stream",
     "text": [
      "Process tomography completed.\n",
      "Running process tomography on the QVM for reference...\n"
     ]
    },
    {
     "name": "stderr",
     "output_type": "stream",
     "text": [
      "100%|██████████| 4/4 [00:02<00:00,  1.87it/s]\n",
      "100%|██████████| 4/4 [00:01<00:00,  2.39it/s]\n",
      "100%|██████████| 256/256 [01:03<00:00,  4.00it/s]\n",
      "100%|██████████| 256/256 [02:12<00:00,  1.93it/s]\n",
      "  0%|          | 0/4 [00:00<?, ?it/s]"
     ]
    },
    {
     "name": "stdout",
     "output_type": "stream",
     "text": [
      "Process tomography completed.\n",
      "Running process tomography on the QVM for reference...\n"
     ]
    },
    {
     "name": "stderr",
     "output_type": "stream",
     "text": [
      "100%|██████████| 4/4 [00:01<00:00,  2.12it/s]\n",
      "100%|██████████| 4/4 [00:02<00:00,  1.48it/s]\n",
      "100%|██████████| 256/256 [00:59<00:00,  4.33it/s]\n",
      "100%|██████████| 256/256 [02:10<00:00,  1.96it/s]\n",
      "  0%|          | 0/4 [00:00<?, ?it/s]"
     ]
    },
    {
     "name": "stdout",
     "output_type": "stream",
     "text": [
      "Process tomography completed.\n",
      "Running process tomography on the QVM for reference...\n"
     ]
    },
    {
     "name": "stderr",
     "output_type": "stream",
     "text": [
      "100%|██████████| 4/4 [00:01<00:00,  2.13it/s]\n",
      "100%|██████████| 4/4 [00:02<00:00,  1.75it/s]\n",
      "100%|██████████| 256/256 [00:56<00:00,  4.53it/s]\n",
      "100%|██████████| 256/256 [02:12<00:00,  1.94it/s]\n",
      "  0%|          | 0/4 [00:00<?, ?it/s]"
     ]
    },
    {
     "name": "stdout",
     "output_type": "stream",
     "text": [
      "Process tomography completed.\n",
      "Running process tomography on the QVM for reference...\n"
     ]
    },
    {
     "name": "stderr",
     "output_type": "stream",
     "text": [
      "100%|██████████| 4/4 [00:01<00:00,  2.65it/s]\n",
      "100%|██████████| 4/4 [00:02<00:00,  1.61it/s]\n",
      "100%|██████████| 256/256 [01:05<00:00,  3.89it/s]\n",
      "100%|██████████| 256/256 [02:04<00:00,  2.06it/s]\n",
      "  0%|          | 0/4 [00:00<?, ?it/s]"
     ]
    },
    {
     "name": "stdout",
     "output_type": "stream",
     "text": [
      "Process tomography completed.\n",
      "Running process tomography on the QVM for reference...\n"
     ]
    },
    {
     "name": "stderr",
     "output_type": "stream",
     "text": [
      "100%|██████████| 4/4 [00:01<00:00,  2.10it/s]\n",
      "100%|██████████| 4/4 [00:01<00:00,  2.10it/s]\n",
      "100%|██████████| 256/256 [00:55<00:00,  4.63it/s]\n",
      "100%|██████████| 256/256 [02:11<00:00,  1.94it/s]\n",
      "  0%|          | 0/4 [00:00<?, ?it/s]"
     ]
    },
    {
     "name": "stdout",
     "output_type": "stream",
     "text": [
      "Process tomography completed.\n",
      "Running process tomography on the QVM for reference...\n"
     ]
    },
    {
     "name": "stderr",
     "output_type": "stream",
     "text": [
      "100%|██████████| 4/4 [00:02<00:00,  1.84it/s]\n",
      "100%|██████████| 4/4 [00:02<00:00,  1.93it/s]\n",
      "100%|██████████| 256/256 [00:57<00:00,  4.48it/s]\n",
      "100%|██████████| 256/256 [02:12<00:00,  1.93it/s]\n",
      "  0%|          | 0/4 [00:00<?, ?it/s]"
     ]
    },
    {
     "name": "stdout",
     "output_type": "stream",
     "text": [
      "Process tomography completed.\n",
      "Running process tomography on the QVM for reference...\n"
     ]
    },
    {
     "name": "stderr",
     "output_type": "stream",
     "text": [
      "100%|██████████| 4/4 [00:01<00:00,  2.15it/s]\n",
      "100%|██████████| 4/4 [00:02<00:00,  1.67it/s]\n",
      "100%|██████████| 256/256 [01:02<00:00,  4.07it/s]\n",
      "100%|██████████| 256/256 [01:57<00:00,  2.18it/s]\n",
      "  0%|          | 0/4 [00:00<?, ?it/s]"
     ]
    },
    {
     "name": "stdout",
     "output_type": "stream",
     "text": [
      "Process tomography completed.\n",
      "Running process tomography on the QVM for reference...\n"
     ]
    },
    {
     "name": "stderr",
     "output_type": "stream",
     "text": [
      "100%|██████████| 4/4 [00:01<00:00,  2.49it/s]\n",
      "100%|██████████| 4/4 [00:02<00:00,  1.88it/s]\n",
      " 30%|██▉       | 76/256 [00:21<00:50,  3.58it/s]"
     ]
    }
   ],
   "source": [
    "NUM_SAMPLES = 10\n",
    "for qubits in all_qubits:\n",
    "    qubits = qubits.tolist()\n",
    "    CZ_PROGRAM = Program([CZ(qubits[0], qubits[1])])\n",
    "\n",
    "    #Perform process tomography\n",
    "#    print(\"Running process tomography on the QPU...\")\n",
    "#    process_tomography_qpu, _, _ = do_process_tomography(CZ_PROGRAM, NUM_SAMPLES, qpu, qubits)\n",
    "#    print(\"Process tomography completed.\")\n",
    "    print(\"Running process tomography on the QVM for reference...\")\n",
    "    process_tomography_qvm, _, _ = do_process_tomography(CZ_PROGRAM, NUM_SAMPLES, qvm, qubits)\n",
    "    print(\"Process tomography completed.\")\n",
    "\n",
    "\n",
    " #   process_fidelity = process_tomography_qpu.avg_gate_fidelity(process_tomography_qvm.r_est)\n",
    "\n",
    "\n",
    "#    qpu_plot = process_tomography_qpu.plot();\n",
    "#    qpu_plot.text(0.4, .95, r'$F_{{\\rm avg}}={:1.1f}\\%$'.format(process_fidelity*100), size=25)\n",
    "\n",
    "    process_tomography_qvm.plot();"
   ]
  },
  {
   "cell_type": "code",
   "execution_count": null,
   "metadata": {},
   "outputs": [],
   "source": []
  }
 ],
 "metadata": {
  "kernelspec": {
   "display_name": "Python 3",
   "language": "python",
   "name": "python3"
  },
  "language_info": {
   "codemirror_mode": {
    "name": "ipython",
    "version": 3
   },
   "file_extension": ".py",
   "mimetype": "text/x-python",
   "name": "python",
   "nbconvert_exporter": "python",
   "pygments_lexer": "ipython3",
   "version": "3.4.4"
  }
 },
 "nbformat": 4,
 "nbformat_minor": 2
}
