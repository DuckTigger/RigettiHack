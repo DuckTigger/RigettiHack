{
 "cells": [
  {
   "cell_type": "markdown",
   "metadata": {},
   "source": [
    "# Process Tomography of the CZ gates"
   ]
  },
  {
   "cell_type": "code",
   "execution_count": null,
   "metadata": {},
   "outputs": [],
   "source": [
    "import numpy as np\n",
    "from pyquil.quil import Program\n",
    "from pyquil.api import QVMConnection\n",
    "from pyquil.gates import *\n",
    "\n",
    "qvm = QVMConnection()\n",
    "\n",
    "from grove.tomography.process_tomography import do_process_tomography\n",
    "from grove.tomography.utils import notebook_mode\n",
    "from pyquil.api import QPUConnection, get_devices\n",
    "from mock import MagicMock\n",
    "import json\n",
    "from __future__ import print_function\n",
    "import matplotlib.pyplot as plt\n",
    "\n",
    "#Fake QPU\n",
    "acorn = get_devices(as_dict=True)['19Q-Acorn']\n",
    "qpu = QVMConnection(acorn)\n",
    "\n",
    "#To do\n",
    "all_qubits = np.array([[0,5],[0,6],[1,6],[1,7],[2,7],[2,8],[4,9],[5,10],[6,11],\n",
    "                      [7,12],[8,13],[9,14],[10,15], [10,16],[11,16],[11,17],[12,17],\n",
    "                      [12,18],[13,18],[13,19],[14,19]])\n"
   ]
  },
  {
   "cell_type": "code",
   "execution_count": null,
   "metadata": {},
   "outputs": [
    {
     "name": "stderr",
     "output_type": "stream",
     "text": [
      "\n",
      "  0%|          | 0/4 [00:00<?, ?it/s]\u001b[A"
     ]
    },
    {
     "name": "stdout",
     "output_type": "stream",
     "text": [
      "Running process tomography on the QVM for reference...\n"
     ]
    },
    {
     "name": "stderr",
     "output_type": "stream",
     "text": [
      "\n",
      " 25%|██▌       | 1/4 [00:00<00:02,  1.41it/s]\u001b[A\n",
      " 50%|█████     | 2/4 [00:01<00:01,  1.50it/s]\u001b[A\n",
      " 75%|███████▌  | 3/4 [00:01<00:00,  1.97it/s]\u001b[A\n",
      "100%|██████████| 4/4 [00:02<00:00,  1.94it/s]\u001b[A\n",
      "\u001b[A\n",
      "  0%|          | 0/4 [00:00<?, ?it/s]\u001b[A\n",
      " 25%|██▌       | 1/4 [00:00<00:02,  1.39it/s]\u001b[A\n",
      " 50%|█████     | 2/4 [00:01<00:01,  1.94it/s]\u001b[A\n",
      " 75%|███████▌  | 3/4 [00:01<00:00,  2.22it/s]\u001b[A\n",
      "100%|██████████| 4/4 [00:02<00:00,  1.92it/s]\u001b[A\n",
      "\u001b[A\n",
      "  0%|          | 0/256 [00:00<?, ?it/s]\u001b[A\n",
      "  0%|          | 1/256 [00:00<02:30,  1.70it/s]\u001b[A\n",
      "  1%|          | 2/256 [00:00<01:44,  2.43it/s]\u001b[A\n",
      "  1%|          | 3/256 [00:01<02:09,  1.96it/s]\u001b[A\n",
      "  2%|▏         | 4/256 [00:01<01:56,  2.17it/s]\u001b[A\n",
      "  2%|▏         | 5/256 [00:02<01:42,  2.45it/s]\u001b[A\n",
      "  2%|▏         | 6/256 [00:02<01:33,  2.67it/s]\u001b[A\n",
      "  3%|▎         | 7/256 [00:02<01:27,  2.84it/s]\u001b[A\n",
      "  3%|▎         | 8/256 [00:02<01:22,  3.01it/s]\u001b[A\n",
      "  4%|▎         | 9/256 [00:02<01:18,  3.13it/s]\u001b[A\n",
      "  4%|▍         | 10/256 [00:03<01:16,  3.23it/s]\u001b[A\n",
      "  4%|▍         | 11/256 [00:03<01:20,  3.04it/s]\u001b[A\n",
      "  5%|▍         | 12/256 [00:03<01:18,  3.11it/s]\u001b[A\n",
      "  5%|▌         | 13/256 [00:04<01:17,  3.14it/s]\u001b[A\n",
      "  5%|▌         | 14/256 [00:04<01:15,  3.20it/s]\u001b[A\n",
      "  6%|▌         | 15/256 [00:04<01:14,  3.23it/s]\u001b[A\n",
      "100%|██████████| 256/256 [01:09<00:00,  3.70it/s]\n",
      "100%|██████████| 256/256 [02:06<00:00,  2.03it/s]\n",
      "  0%|          | 0/4 [00:00<?, ?it/s]"
     ]
    },
    {
     "name": "stdout",
     "output_type": "stream",
     "text": [
      "Process tomography completed.\n",
      "Running process tomography on the QVM for reference...\n"
     ]
    },
    {
     "name": "stderr",
     "output_type": "stream",
     "text": [
      "100%|██████████| 4/4 [00:02<00:00,  1.85it/s]\n",
      "100%|██████████| 4/4 [00:02<00:00,  1.92it/s]\n",
      "100%|██████████| 256/256 [00:57<00:00,  4.46it/s]\n",
      "100%|██████████| 256/256 [02:10<00:00,  1.96it/s]\n",
      "  0%|          | 0/4 [00:00<?, ?it/s]"
     ]
    },
    {
     "name": "stdout",
     "output_type": "stream",
     "text": [
      "Process tomography completed.\n",
      "Running process tomography on the QVM for reference...\n"
     ]
    },
    {
     "name": "stderr",
     "output_type": "stream",
     "text": [
      "100%|██████████| 4/4 [00:00<00:00,  4.76it/s]\n",
      "100%|██████████| 4/4 [00:01<00:00,  2.11it/s]\n",
      "100%|██████████| 256/256 [01:05<00:00,  3.92it/s]\n",
      "100%|██████████| 256/256 [02:07<00:00,  2.01it/s]\n",
      "  0%|          | 0/4 [00:00<?, ?it/s]"
     ]
    },
    {
     "name": "stdout",
     "output_type": "stream",
     "text": [
      "Process tomography completed.\n",
      "Running process tomography on the QVM for reference...\n"
     ]
    },
    {
     "name": "stderr",
     "output_type": "stream",
     "text": [
      "100%|██████████| 4/4 [00:01<00:00,  2.28it/s]\n",
      "100%|██████████| 4/4 [00:03<00:00,  1.04it/s]\n",
      "100%|██████████| 256/256 [01:07<00:00,  3.77it/s]\n",
      "100%|██████████| 256/256 [02:06<00:00,  2.02it/s]\n"
     ]
    },
    {
     "name": "stdout",
     "output_type": "stream",
     "text": [
      "Process tomography completed.\n"
     ]
    },
    {
     "name": "stderr",
     "output_type": "stream",
     "text": [
      "\r",
      "  0%|          | 0/4 [00:00<?, ?it/s]"
     ]
    },
    {
     "name": "stdout",
     "output_type": "stream",
     "text": [
      "Running process tomography on the QVM for reference...\n"
     ]
    },
    {
     "name": "stderr",
     "output_type": "stream",
     "text": [
      "100%|██████████| 4/4 [00:02<00:00,  1.93it/s]\n",
      "100%|██████████| 4/4 [00:01<00:00,  2.14it/s]\n",
      "100%|██████████| 256/256 [01:10<00:00,  3.65it/s]\n",
      "100%|██████████| 256/256 [02:13<00:00,  1.92it/s]\n",
      "  0%|          | 0/4 [00:00<?, ?it/s]"
     ]
    },
    {
     "name": "stdout",
     "output_type": "stream",
     "text": [
      "Process tomography completed.\n",
      "Running process tomography on the QVM for reference...\n"
     ]
    },
    {
     "name": "stderr",
     "output_type": "stream",
     "text": [
      "100%|██████████| 4/4 [00:01<00:00,  2.28it/s]\n",
      "100%|██████████| 4/4 [00:02<00:00,  1.37it/s]\n",
      "100%|██████████| 256/256 [01:03<00:00,  4.02it/s]\n",
      "100%|██████████| 256/256 [02:19<00:00,  1.84it/s]\n",
      "  0%|          | 0/4 [00:00<?, ?it/s]"
     ]
    },
    {
     "name": "stdout",
     "output_type": "stream",
     "text": [
      "Process tomography completed.\n",
      "Running process tomography on the QVM for reference...\n"
     ]
    },
    {
     "name": "stderr",
     "output_type": "stream",
     "text": [
      "100%|██████████| 4/4 [00:01<00:00,  2.30it/s]\n",
      "100%|██████████| 4/4 [00:02<00:00,  1.58it/s]\n",
      "100%|██████████| 256/256 [01:00<00:00,  4.24it/s]\n",
      "100%|██████████| 256/256 [02:00<00:00,  2.13it/s]\n",
      "  0%|          | 0/4 [00:00<?, ?it/s]"
     ]
    },
    {
     "name": "stdout",
     "output_type": "stream",
     "text": [
      "Process tomography completed.\n",
      "Running process tomography on the QVM for reference...\n"
     ]
    },
    {
     "name": "stderr",
     "output_type": "stream",
     "text": [
      "100%|██████████| 4/4 [00:01<00:00,  2.20it/s]\n",
      "100%|██████████| 4/4 [00:01<00:00,  2.13it/s]\n",
      "100%|██████████| 256/256 [00:58<00:00,  4.38it/s]\n",
      "100%|██████████| 256/256 [02:03<00:00,  2.07it/s]\n",
      "  0%|          | 0/4 [00:00<?, ?it/s]"
     ]
    },
    {
     "name": "stdout",
     "output_type": "stream",
     "text": [
      "Process tomography completed.\n",
      "Running process tomography on the QVM for reference...\n"
     ]
    },
    {
     "name": "stderr",
     "output_type": "stream",
     "text": [
      "100%|██████████| 4/4 [00:02<00:00,  1.80it/s]\n",
      "100%|██████████| 4/4 [00:04<00:00,  1.23s/it]\n",
      "100%|██████████| 256/256 [00:52<00:00,  4.87it/s]\n",
      "100%|██████████| 256/256 [02:05<00:00,  2.04it/s]\n",
      "  0%|          | 0/4 [00:00<?, ?it/s]"
     ]
    },
    {
     "name": "stdout",
     "output_type": "stream",
     "text": [
      "Process tomography completed.\n",
      "Running process tomography on the QVM for reference...\n"
     ]
    },
    {
     "name": "stderr",
     "output_type": "stream",
     "text": [
      "100%|██████████| 4/4 [00:02<00:00,  1.94it/s]\n",
      "100%|██████████| 4/4 [00:02<00:00,  1.94it/s]\n",
      " 18%|█▊        | 45/256 [00:11<00:52,  4.01it/s]"
     ]
    }
   ],
   "source": [
    "NUM_SAMPLES = 10\n",
    "for qubits in all_qubits:\n",
    "    qubits = qubits.tolist()\n",
    "    CZ_PROGRAM = Program([CZ(qubits[0], qubits[1])])\n",
    "\n",
    "    #Perform process tomography\n",
    "#    print(\"Running process tomography on the QPU...\")\n",
    "#    process_tomography_qpu, _, _ = do_process_tomography(CZ_PROGRAM, NUM_SAMPLES, qpu, qubits)\n",
    "#    print(\"Process tomography completed.\")\n",
    "    print(\"Running process tomography on the QVM for reference...\")\n",
    "    process_tomography_qvm, _, _ = do_process_tomography(CZ_PROGRAM, NUM_SAMPLES, qvm, qubits)\n",
    "    print(\"Process tomography completed.\")\n",
    "\n",
    "\n",
    " #   process_fidelity = process_tomography_qpu.avg_gate_fidelity(process_tomography_qvm.r_est)\n",
    "\n",
    "\n",
    "#    qpu_plot = process_tomography_qpu.plot();\n",
    "#    qpu_plot.text(0.4, .95, r'$F_{{\\rm avg}}={:1.1f}\\%$'.format(process_fidelity*100), size=25)\n",
    "\n",
    "    process_tomography_qvm.plot()"
   ]
  },
  {
   "cell_type": "code",
   "execution_count": null,
   "metadata": {},
   "outputs": [],
   "source": []
  }
 ],
 "metadata": {
  "kernelspec": {
   "display_name": "Python 3",
   "language": "python",
   "name": "python3"
  },
  "language_info": {
   "codemirror_mode": {
    "name": "ipython",
    "version": 3
   },
   "file_extension": ".py",
   "mimetype": "text/x-python",
   "name": "python",
   "nbconvert_exporter": "python",
   "pygments_lexer": "ipython3",
   "version": "3.4.4"
  }
 },
 "nbformat": 4,
 "nbformat_minor": 2
}
