{
 "cells": [
  {
   "cell_type": "code",
   "execution_count": 39,
   "metadata": {},
   "outputs": [],
   "source": [
    "from pyquil.quil import Program\n",
    "from pyquil.api import QVMConnection\n",
    "from pyquil.gates import CNOT,H, I\n",
    "import numpy as np\n",
    "from scipy import linalg\n",
    "\n",
    "data = np.loadtxt(\"data\")"
   ]
  },
  {
   "cell_type": "code",
   "execution_count": 40,
   "metadata": {},
   "outputs": [],
   "source": [
    "p= Program()"
   ]
  },
  {
   "cell_type": "code",
   "execution_count": 41,
   "metadata": {},
   "outputs": [
    {
     "name": "stdout",
     "output_type": "stream",
     "text": [
      "[ 0  2  5  6  8 10 12 15 17 18 20 23 24 27 29 30]\n"
     ]
    }
   ],
   "source": [
    "print(decimal_data)"
   ]
  },
  {
   "cell_type": "code",
   "execution_count": 42,
   "metadata": {},
   "outputs": [
    {
     "name": "stdout",
     "output_type": "stream",
     "text": [
      "[  2.   7.   8.  11.  13.  14.]\n",
      "(0.25+0j)|00000> + (0.25+0j)|00001> + (0.25+0j)|00010> + (0.25+0j)|00011> + (0.25+0j)|00100> + (0.25+0j)|00101> + (0.25+0j)|00110> + (0.25+0j)|00111> + (0.25+0j)|01000> + (0.25+0j)|01001> + (0.25+0j)|01010> + (0.25+0j)|01011> + (0.25+0j)|01100> + (0.25+0j)|01101> + (0.25+0j)|01110> + (0.25+0j)|01111>\n",
      "(0.25+0j)|00000> + (0.25+0j)|00010> + (0.25+0j)|00011> + (0.25+0j)|00101> + (0.25+0j)|00110> + (0.25+0j)|01000> + (0.25+0j)|01001> + (0.25+0j)|01010> + (0.25+0j)|01100> + (0.25+0j)|01111> + (0.25+0j)|10001> + (0.25+0j)|10100> + (0.25+0j)|10111> + (0.25+0j)|11011> + (0.25+0j)|11101> + (0.25+0j)|11110>\n"
     ]
    }
   ],
   "source": [
    "def create_wrong_decimals(list_in_binary):\n",
    "    out_list = (list_in_binary[:,0] * 2**4 + list_in_binary[:,1] * 2**3 + list_in_binary[:,2] * 2**2 + \n",
    "               list_in_binary[:,3] * 2**1 + list_in_binary[:,4])\n",
    "    return out_list\n",
    "\n",
    "list_in_binary = np.array([[0,0,1,0,0],[ 0,1,1,1,0],[ 1,0,0,0,0],[ 1,0,1,1,0], [1,1,0,1,0], [1,1,1,0,0]])\n",
    "wrong_decimals = create_wrong_decimals(list_in_binary) /2\n",
    "print(wrong_decimals)\n",
    "\n",
    "p= Program()\n",
    "p += H(0)\n",
    "p += H(1)\n",
    "p += H(2)\n",
    "p += H(3)\n",
    "p += I(4)\n",
    "qvm = QVMConnection()\n",
    "print(qvm.wavefunction(p))\n",
    "\n",
    "dict = {}\n",
    "for i in range(2**4):\n",
    "    if i in wrong_decimals:\n",
    "        dict[i] = np.array([[0.,1.],[1.,0.]])\n",
    "    else:\n",
    "        dict[i] = np.array([[1.,0],[0.,1.]])\n",
    "init_gate = linalg.block_diag(dict[0], dict[1], dict[2], dict[3], dict[4], dict[5], dict[6], dict[7], dict[8], dict[9],\n",
    "                 dict[10],\n",
    "                 dict[11], dict[12], dict[13],dict[14],dict[15])\n",
    "p.defgate(\"INIT\", init_gate) \n",
    "p.inst((\"INIT\",0,1,2,3,4))\n",
    "\n",
    "qvm = QVMConnection()\n",
    "print(qvm.wavefunction(p))"
   ]
  },
  {
   "cell_type": "code",
   "execution_count": 31,
   "metadata": {},
   "outputs": [
    {
     "name": "stdout",
     "output_type": "stream",
     "text": [
      "[[1 0 0 ..., 0 0 0]\n",
      " [0 1 0 ..., 0 0 0]\n",
      " [0 0 1 ..., 0 0 0]\n",
      " ..., \n",
      " [0 0 0 ..., 0 0 0]\n",
      " [0 0 0 ..., 0 1 0]\n",
      " [0 0 0 ..., 0 0 1]]\n"
     ]
    }
   ],
   "source": [
    "print(init_gate.astype(int))\n",
    "np.savetxt(\"init_gate.txt\",init_gate.astype(int),fmt=\"%i\")"
   ]
  },
  {
   "cell_type": "code",
   "execution_count": null,
   "metadata": {},
   "outputs": [],
   "source": []
  }
 ],
 "metadata": {
  "kernelspec": {
   "display_name": "Python 3",
   "language": "python",
   "name": "python3"
  },
  "language_info": {
   "codemirror_mode": {
    "name": "ipython",
    "version": 3
   },
   "file_extension": ".py",
   "mimetype": "text/x-python",
   "name": "python",
   "nbconvert_exporter": "python",
   "pygments_lexer": "ipython3",
   "version": "3.4.4"
  }
 },
 "nbformat": 4,
 "nbformat_minor": 2
}
