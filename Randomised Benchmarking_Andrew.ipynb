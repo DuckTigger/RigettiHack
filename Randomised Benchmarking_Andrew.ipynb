{
 "cells": [
  {
   "cell_type": "markdown",
   "metadata": {},
   "source": [
    "## Randomised benchmarking\n",
    "\n",
    "Randomised benchmarking on multiple qubits consitsts of inserting a set of randomly chosen Clifford group gates into a circuit, and checking that the outcome is the expected outcome. Clifford group gates are chosen to be deterministic and classically simulable. We will restrict ourselves to CNOT and rotations about a major axis (Rx, Ry, Rz).\n",
    "\n",
    "Here we will write some code to perform randomised benchmarking on the Rigetti Acorn chip.\n",
    "\n",
    "For a paper on randomised benchmarking on superconducting qubits, see: https://arxiv.org/pdf/0707.0963.pdf"
   ]
  },
  {
   "cell_type": "code",
   "execution_count": 1,
   "metadata": {},
   "outputs": [],
   "source": [
    "import numpy as np\n",
    "import copy\n",
    "from random import randint\n",
    "import pyquil\n",
    "from pyquil.quil import Program, Pragma\n",
    "from pyquil.api import QVMConnection\n",
    "from pyquil.api import QPUConnection\n",
    "from pyquil.api import get_devices\n",
    "from pyquil.gates import *\n",
    "import matplotlib\n",
    "import matplotlib.pyplot as plt\n",
    "import matplotlib as mpl\n",
    "import collections\n",
    "%matplotlib inline"
   ]
  },
  {
   "cell_type": "code",
   "execution_count": 2,
   "metadata": {},
   "outputs": [
    {
     "name": "stdout",
     "output_type": "stream",
     "text": [
      "PRAGMA PRESERVE_BLOCK\n",
      "RZ(pi/2) 0\n",
      "RZ(pi/2) 0\n",
      "RZ(pi/2) 0\n",
      "RX(pi/2) 0\n",
      "RZ(pi/2) 0\n",
      "RZ(-pi/2) 0\n",
      "RX(-pi/2) 0\n",
      "RZ(-pi/2) 0\n",
      "RZ(-pi/2) 0\n",
      "RZ(-pi/2) 0\n",
      "PRAGMA END PRESERVE_BLOCK\n",
      "\n"
     ]
    }
   ],
   "source": [
    "#Function to decide upon randomised gates, up to a limit\n",
    "def randomGates(qubit_a = 0, no_of_gates = 30):\n",
    "    prog = Program()\n",
    "    sequence_length = no_of_gates\n",
    "    sequence = [0]*sequence_length\n",
    "    inverse_sequence = [0]*sequence_length\n",
    "    \n",
    "    gate_set = {0:RX, 1:RZ}\n",
    "    \n",
    "    inverse_gate_set = {0:RX, 1:RZ}\n",
    "    a  = qubit_a\n",
    "    for i in range(sequence_length):\n",
    "\n",
    "        random_choice = randint(0,1)\n",
    "        gate = gate_set[random_choice]\n",
    "        inverse_gate = inverse_gate_set[random_choice]\n",
    "\n",
    "        gate = gate((np.pi/2),(a))\n",
    "        inverse_gate = inverse_gate((-np.pi/2),(a))\n",
    "        sequence[i] = gate\n",
    "        inverse_sequence[i] = inverse_gate\n",
    "    \n",
    "    #prog.inst((\"PRAGMA COMMUTING_BLOCKS\"))  \n",
    "    prog.inst((\"PRAGMA PRESERVE_BLOCK\"))\n",
    "    for i in sequence:\n",
    "        prog.inst(i)\n",
    "    for i in reversed(inverse_sequence):\n",
    "        prog.inst(i)\n",
    "    prog.inst((\"PRAGMA END PRESERVE_BLOCK\"))\n",
    "    #prog.inst((\"PRAGMA END_COMMUTING_BLOCKS\"))\n",
    "    return prog\n",
    "    \n",
    "#print(randomGates(no_of_gates = 5))"
   ]
  },
  {
   "cell_type": "code",
   "execution_count": 15,
   "metadata": {},
   "outputs": [],
   "source": [
    "def fidelity_of_QPU(trials = 100, qubit_a = 0, no_of_gates = 30):\n",
    "    devices = get_devices(as_dict = True)\n",
    "    acorn = devices['19Q-Acorn']\n",
    "#    qvm = QVMConnection()\n",
    "    noisy_qvm = QVMConnection(acorn)\n",
    " #   qpu = QPUConnection(acorn)\n",
    "    \n",
    "    randomisedProgram = randomGates(qubit_a,no_of_gates)\n",
    "\n",
    "    randomisedProgram.measure(qubit_a,qubit_a)\n",
    "    #expected_state = qvm.run(randomisedProgram, qvm_regs, trials)\n",
    "    #qpu_state = qpu.run(randomisedProgram, [qubit_a], trials)\n",
    "    noisy_model = noisy_qvm.run(randomisedProgram, [qubit_a], trials)\n",
    "\n",
    "    #fidelity = (1 - np.sum(qpu_state)/trials)\n",
    "    noise_model_fidelity = (1 - np.sum(noisy_model)/trials)\n",
    "    #perfect_fidelity = (1 - np.sum(expected_state)/trials) #If this isn't == 1 you have a problem!\n",
    "    #print(\"The QPU fidelity is: {} \\n\".format(fidelity))\n",
    "    #print(\"The QVM noise model fidelity is: {} \\n  The expected fidelity is: {} (check this is == 1)\".format(noise_model_fidelity, perfect_fidelity))\n",
    "    \n",
    "    #return circuit_length, noise_model_fidelity, fidelity\n",
    "    return noise_model_fidelity"
   ]
  },
  {
   "cell_type": "code",
   "execution_count": 16,
   "metadata": {},
   "outputs": [],
   "source": [
    "def randomisedBenchmarking(n_list=np.arange(1,100,10),repeats = 4):\n",
    "    results = collections.defaultdict(dict)\n",
    "    dead_qubits = [2,3,15,18]\n",
    "    repeats_data = np.zeros(repeats)\n",
    "    for i in [0,1]:\n",
    "        if i not in dead_qubits:\n",
    "            for n in n_list:\n",
    "                for repeat in range(repeats):\n",
    "                    repeats_data[repeat] = fidelity_of_QPU(qubit_a = i, no_of_gates = n)\n",
    "                model_fidelity = np.average(repeats_data)\n",
    "                errorbar = np.std(repeats_data)\n",
    "                results[i][n] = model_fidelity, errorbar\n",
    "\n",
    "    #print(\"{:<8} {:<15} {:<10}\".format('Qubit','Model Fidelity','Real Fidelity'))\n",
    "    #for qubit, data in results.items():\n",
    "        #no_of_gates, model, real = data\n",
    "        #print(\"{:<8} {:<15} {:<10}\".format(qubit, no_of_gates, model, real))\n",
    "    return results\n",
    "\n",
    "results = randomisedBenchmarking()"
   ]
  },
  {
   "cell_type": "code",
   "execution_count": 22,
   "metadata": {},
   "outputs": [
    {
     "name": "stdout",
     "output_type": "stream",
     "text": [
      "Qubit: 0\n",
      "[[1.00000000e+00 9.45000000e-01 1.80277564e-02]\n",
      " [1.10000000e+01 8.62500000e-01 3.11247490e-02]\n",
      " [2.10000000e+01 8.47500000e-01 3.69966215e-02]\n",
      " [3.10000000e+01 8.17500000e-01 3.11247490e-02]\n",
      " [4.10000000e+01 8.00000000e-01 5.33853913e-02]\n",
      " [5.10000000e+01 7.45000000e-01 5.00000000e-03]\n",
      " [6.10000000e+01 7.15000000e-01 4.09267639e-02]\n",
      " [7.10000000e+01 7.42500000e-01 5.06828373e-02]\n",
      " [8.10000000e+01 7.22500000e-01 2.48746859e-02]\n",
      " [9.10000000e+01 6.77500000e-01 7.39509973e-02]]\n",
      "gradient =  -0.0032541060067341476\n",
      "intercept =  -0.09396738771703017\n"
     ]
    },
    {
     "data": {
      "image/png": "[encoded data removed]",
      "text/plain": [
       "<matplotlib.figure.Figure at 0x1516b38b70>"
      ]
     },
     "metadata": {},
     "output_type": "display_data"
    },
    {
     "name": "stdout",
     "output_type": "stream",
     "text": [
      "Qubit: 1\n",
      "[[1.00000000e+00 9.52500000e-01 1.78535711e-02]\n",
      " [1.10000000e+01 9.35000000e-01 2.87228132e-02]\n",
      " [2.10000000e+01 8.45000000e-01 3.50000000e-02]\n",
      " [3.10000000e+01 8.32500000e-01 3.56195171e-02]\n",
      " [4.10000000e+01 7.82500000e-01 4.96865173e-02]\n",
      " [5.10000000e+01 7.80000000e-01 6.20483682e-02]\n",
      " [6.10000000e+01 7.82500000e-01 4.20565096e-02]\n",
      " [7.10000000e+01 6.85000000e-01 7.22841615e-02]\n",
      " [8.10000000e+01 6.72500000e-01 1.78535711e-02]\n",
      " [9.10000000e+01 6.70000000e-01 4.41588043e-02]]\n",
      "gradient =  -0.004067714743255291\n",
      "intercept =  -0.05110170968177208\n"
     ]
    }
   ],
   "source": [
    "from scipy.optimize import curve_fit\n",
    "plt.rcParams[\"font.family\"] = \"Arial\"\n",
    "matplotlib.rcParams.update({'font.size': 13})\n",
    "#mpl.rcParams['figure.figsize'] = (20,70)\n",
    "def plot_results(results):\n",
    "    \n",
    "    def gate_independence_fit(x,a,b):\n",
    "        return a*x+b\n",
    "\n",
    "    \n",
    "    for qubit, data in results.items():\n",
    "        print(\"Qubit:\",qubit)\n",
    "        plot_list = np.zeros((len(data),3))\n",
    "        index = 0\n",
    "        for circuit_length, fidelities in data.items():\n",
    "            #model,real = fidelities[0],fidelities[1]\n",
    "            plot_list[index,0] = circuit_length\n",
    "            plot_list[index,1] = fidelities[0]\n",
    "            plot_list[index,2] = fidelities[1]\n",
    "            index += 1\n",
    "        print(plot_list)\n",
    "        xdata= plot_list[:,0]\n",
    "        ydata = np.log(plot_list[:,1])\n",
    "        error_bar = plot_list[:,2]\n",
    "        popt,pcov = curve_fit(gate_independence_fit,xdata,ydata)\n",
    "        print(\"gradient = \", popt[0])\n",
    "        print(\"intercept = \", popt[1])\n",
    "        if qubit ==0:\n",
    "            plt.ylabel(\"log(fidelity)\")\n",
    "            plt.xlabel('Circuit depth')\n",
    "            plt.errorbar(xdata, ydata, yerr=error_bar)\n",
    "            plt.plot(xdata,gate_independence_fit(xdata,*popt),'r-',label = 'fit: a=%5.3f, b=%5.3f' %tuple(popt))\n",
    "            plt.legend()\n",
    "            plt.savefig(\"fidelity_plot2.eps\")\n",
    "            plt.show()\n",
    "        #fig, axes =  plt.subplots(nrows = len(results), ncols = 1, sharex = True, sharey =False)\n",
    "    \n",
    "        #axes[plot_index].plot(plot_list[:,0], plot_list[:,1])\n",
    "        #axes[qubit].plot([x[:][0] for x in plot_list], [y[:][1] for y in plot_list], 'r')\n",
    "        #axes[plot_index].set_xlim(xmin = 0)\n",
    "        #axes[plot_index].set_title('Qubit {}'.format(qubit))\n",
    "    #fig.add_subplot(111, frameon = False)\n",
    "    #plt.ylabel('Fidelity')\n",
    "    \n",
    "plot_results(results)"
   ]
  },
  {
   "cell_type": "code",
   "execution_count": null,
   "metadata": {},
   "outputs": [],
   "source": []
  }
 ],
 "metadata": {
  "kernelspec": {
   "display_name": "Python 3",
   "language": "python",
   "name": "python3"
  },
  "language_info": {
   "codemirror_mode": {
    "name": "ipython",
    "version": 3
   },
   "file_extension": ".py",
   "mimetype": "text/x-python",
   "name": "python",
   "nbconvert_exporter": "python",
   "pygments_lexer": "ipython3",
   "version": "3.6.4"
  }
 },
 "nbformat": 4,
 "nbformat_minor": 2
}
