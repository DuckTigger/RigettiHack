{
 "cells": [
  {
   "cell_type": "markdown",
   "metadata": {},
   "source": [
    "## Rigetti training"
   ]
  },
  {
   "cell_type": "code",
   "execution_count": 1,
   "metadata": {},
   "outputs": [],
   "source": [
    "from pyquil.quil import Program\n",
    "from pyquil.api import QVMConnection\n",
    "from pyquil.gates import *\n",
    "import numpy as np"
   ]
  },
  {
   "cell_type": "code",
   "execution_count": 3,
   "metadata": {},
   "outputs": [],
   "source": [
    "qvm  = QVMConnection()"
   ]
  },
  {
   "cell_type": "code",
   "execution_count": 4,
   "metadata": {},
   "outputs": [
    {
     "data": {
      "text/plain": [
       "<pyquil.quil.Program at 0x254a2861128>"
      ]
     },
     "execution_count": 4,
     "metadata": {},
     "output_type": "execute_result"
    }
   ],
   "source": [
    "p = Program()\n",
    "p.inst(X(0)).measure(0,0)"
   ]
  },
  {
   "cell_type": "code",
   "execution_count": 5,
   "metadata": {},
   "outputs": [
    {
     "name": "stdout",
     "output_type": "stream",
     "text": [
      "X 0\n",
      "MEASURE 0 [0]\n",
      "\n"
     ]
    }
   ],
   "source": [
    "print(p)"
   ]
  },
  {
   "cell_type": "code",
   "execution_count": 6,
   "metadata": {},
   "outputs": [
    {
     "data": {
      "text/plain": [
       "[[1]]"
      ]
     },
     "execution_count": 6,
     "metadata": {},
     "output_type": "execute_result"
    }
   ],
   "source": [
    "classical_regs = [0]\n",
    "qvm.run(p, classical_regs)"
   ]
  },
  {
   "cell_type": "markdown",
   "metadata": {},
   "source": [
    "Rigetti computer is always initialised in the ¦0>¦0>...¦0> state."
   ]
  },
  {
   "cell_type": "markdown",
   "metadata": {},
   "source": [
    "Exercises in pseudo code:\n",
    "1. H 0\n",
    "\n",
    "2. H 0\n",
    "MEASURE 0 [0]\n",
    "\n",
    "3. H 0 \n",
    "CNOT 0 1"
   ]
  },
  {
   "cell_type": "code",
   "execution_count": 10,
   "metadata": {},
   "outputs": [
    {
     "data": {
      "text/plain": [
       "[[0, 0]]"
      ]
     },
     "execution_count": 10,
     "metadata": {},
     "output_type": "execute_result"
    }
   ],
   "source": [
    "p = Program()\n",
    "p.inst(H(0))\n",
    "classical_regs = [0]\n",
    "qvm.run(p, classical_regs)\n",
    "\n",
    "\n",
    "p = Program()\n",
    "p.inst(H(0)).measure(0,0)\n",
    "classical_regs = [0]\n",
    "qvm.run(p, classical_regs)\n",
    "\n",
    "p = Program()\n",
    "p.inst(H(0))\n",
    "p.inst(CNOT( 0, 1))\n",
    "classical_regs = [0,1]\n",
    "qvm.run(p, classical_regs)"
   ]
  },
  {
   "cell_type": "code",
   "execution_count": 11,
   "metadata": {},
   "outputs": [
    {
     "name": "stdout",
     "output_type": "stream",
     "text": [
      "\n"
     ]
    }
   ],
   "source": [
    "program1 = Program()\n",
    "print(program1)\n"
   ]
  },
  {
   "cell_type": "code",
   "execution_count": 12,
   "metadata": {},
   "outputs": [
    {
     "name": "stdout",
     "output_type": "stream",
     "text": [
      "H 0\n",
      "\n"
     ]
    }
   ],
   "source": [
    "program1.inst(H(0))\n",
    "print(program1)"
   ]
  },
  {
   "cell_type": "code",
   "execution_count": 13,
   "metadata": {},
   "outputs": [
    {
     "name": "stdout",
     "output_type": "stream",
     "text": [
      "H 0\n",
      "X 1\n",
      "S 1\n",
      "\n"
     ]
    }
   ],
   "source": [
    "program1.inst([X(1), S(1)])\n",
    "print(program1)"
   ]
  },
  {
   "cell_type": "code",
   "execution_count": 17,
   "metadata": {},
   "outputs": [
    {
     "name": "stdout",
     "output_type": "stream",
     "text": [
      "H 0\n",
      "X 1\n",
      "S 1\n",
      "MEASURE 0 [0]\n",
      "MEASURE 0 [0]\n",
      "MEASURE 0 [0]\n",
      "MEASURE 0 [0]\n",
      "\n"
     ]
    }
   ],
   "source": [
    "program1.measure(0,0)\n",
    "print(program1)"
   ]
  },
  {
   "cell_type": "code",
   "execution_count": 18,
   "metadata": {},
   "outputs": [
    {
     "name": "stdout",
     "output_type": "stream",
     "text": [
      "H 0\n",
      "X 1\n",
      "S 1\n",
      "MEASURE 0 [0]\n",
      "MEASURE 0 [0]\n",
      "MEASURE 0 [0]\n",
      "MEASURE 0 [0]\n",
      "MEASURE 1 [1]\n",
      "\n"
     ]
    }
   ],
   "source": [
    "program1.inst(MEASURE(1,1))\n",
    "print(program1)"
   ]
  },
  {
   "cell_type": "code",
   "execution_count": 19,
   "metadata": {},
   "outputs": [
    {
     "name": "stdout",
     "output_type": "stream",
     "text": [
      "H 0\n",
      "X 1\n",
      "S 1\n",
      "MEASURE 0 [0]\n",
      "MEASURE 1 [1]\n",
      "\n"
     ]
    }
   ],
   "source": [
    "program1.pop()\n",
    "program1.pop()\n",
    "program1.pop()\n",
    "program1.pop()\n",
    "program1.measure(1,1)\n",
    "print(program1)"
   ]
  },
  {
   "cell_type": "code",
   "execution_count": 30,
   "metadata": {},
   "outputs": [
    {
     "name": "stdout",
     "output_type": "stream",
     "text": [
      "H 0\n",
      "X 1\n",
      "S 1\n",
      "MEASURE 0 [0]\n",
      "MEASURE 1 [1]\n",
      "\n"
     ]
    },
    {
     "data": {
      "text/plain": [
       "[[0, 1]]"
      ]
     },
     "execution_count": 30,
     "metadata": {},
     "output_type": "execute_result"
    }
   ],
   "source": [
    "qvm = QVMConnection()\n",
    "cOutput = [0,1]\n",
    "print(program1)\n",
    "qvm.run(program1, cOutput)"
   ]
  },
  {
   "cell_type": "code",
   "execution_count": 31,
   "metadata": {},
   "outputs": [
    {
     "data": {
      "text/plain": [
       "[[1, 1],\n",
       " [0, 1],\n",
       " [1, 1],\n",
       " [0, 1],\n",
       " [0, 1],\n",
       " [1, 1],\n",
       " [1, 1],\n",
       " [1, 1],\n",
       " [0, 1],\n",
       " [0, 1]]"
      ]
     },
     "execution_count": 31,
     "metadata": {},
     "output_type": "execute_result"
    }
   ],
   "source": [
    "qvm.run(program1, cOutput, 10)"
   ]
  },
  {
   "cell_type": "code",
   "execution_count": 32,
   "metadata": {},
   "outputs": [
    {
     "name": "stdout",
     "output_type": "stream",
     "text": [
      "1j|11>\n"
     ]
    }
   ],
   "source": [
    "print(qvm.wavefunction(program1))"
   ]
  },
  {
   "cell_type": "code",
   "execution_count": 35,
   "metadata": {},
   "outputs": [
    {
     "name": "stdout",
     "output_type": "stream",
     "text": [
      "(0.7071067812+0j)|0> + (0.7071067812+0j)|1>\n",
      "(1+0j)|1>\n",
      "[0]\n",
      "(0.7071067812+0j)|00> + (0.7071067812+0j)|11>\n"
     ]
    }
   ],
   "source": [
    "p = Program()\n",
    "p.inst(H(0))\n",
    "classical_regs = [0]\n",
    "qvm.run(p, classical_regs)\n",
    "print(qvm.wavefunction(p))\n",
    "\n",
    "\n",
    "p = Program()\n",
    "p.inst(H(0)).measure(0,0)\n",
    "classical_regs = [0]\n",
    "qvm.run(p, classical_regs)\n",
    "print(qvm.wavefunction(p))\n",
    "print(classical_regs)\n",
    "\n",
    "p = Program()\n",
    "p.inst(H(0))\n",
    "p.inst(CNOT( 0, 1))\n",
    "classical_regs = [0,1]\n",
    "qvm.run(p, classical_regs)\n",
    "print(qvm.wavefunction(p))"
   ]
  },
  {
   "cell_type": "code",
   "execution_count": 39,
   "metadata": {},
   "outputs": [
    {
     "name": "stdout",
     "output_type": "stream",
     "text": [
      "-1j|1>\n"
     ]
    }
   ],
   "source": [
    "rotProg = Program()\n",
    "rotProg.inst(RX(np.pi,0))\n",
    "print(qvm.wavefunction(rotProg))"
   ]
  },
  {
   "cell_type": "code",
   "execution_count": 41,
   "metadata": {},
   "outputs": [
    {
     "name": "stdout",
     "output_type": "stream",
     "text": [
      "Help on module pyquil.gates in pyquil:\n",
      "\n",
      "NAME\n",
      "    pyquil.gates\n",
      "\n",
      "DESCRIPTION\n",
      "    A lovely bunch of gates and instructions for programming with.  This module is used to provide\n",
      "    Pythonic sugar for Quil instructions.\n",
      "\n",
      "FUNCTIONS\n",
      "    AND(classical_reg1, classical_reg2)\n",
      "        Produce an AND instruction.\n",
      "        \n",
      "        :param classical_reg1: The first classical register.\n",
      "        :param classical_reg2: The second classical register, which gets modified.\n",
      "        :return: A ClassicalAnd instance.\n",
      "    \n",
      "    CCNOT = ctor(*qubits)\n",
      "    \n",
      "    CNOT = ctor(*qubits)\n",
      "    \n",
      "    CPHASE = gate_function(*params)\n",
      "    \n",
      "    CPHASE00 = gate_function(*params)\n",
      "    \n",
      "    CPHASE01 = gate_function(*params)\n",
      "    \n",
      "    CPHASE10 = gate_function(*params)\n",
      "    \n",
      "    CSWAP = ctor(*qubits)\n",
      "    \n",
      "    CZ = ctor(*qubits)\n",
      "    \n",
      "    EXCHANGE(classical_reg1, classical_reg2)\n",
      "        Produce an EXCHANGE instruction.\n",
      "        \n",
      "        :param classical_reg1: The first classical register, which gets modified.\n",
      "        :param classical_reg2: The second classical register, which gets modified.\n",
      "        :return: A ClassicalExchange instance.\n",
      "    \n",
      "    FALSE(classical_reg)\n",
      "        Produce a FALSE instruction.\n",
      "        \n",
      "        :param classical_reg: A classical register to modify.\n",
      "        :return: A ClassicalFalse instance.\n",
      "    \n",
      "    H = ctor(*qubits)\n",
      "    \n",
      "    I = ctor(*qubits)\n",
      "    \n",
      "    ISWAP = ctor(*qubits)\n",
      "    \n",
      "    MEASURE(qubit, classical_reg=None)\n",
      "        Produce a MEASURE instruction.\n",
      "        \n",
      "        :param qubit: The qubit to measure.\n",
      "        :param classical_reg: The classical register to measure into, or None.\n",
      "        :return: A Measurement instance.\n",
      "    \n",
      "    MOVE(classical_reg1, classical_reg2)\n",
      "        Produce a MOVE instruction.\n",
      "        \n",
      "        :param classical_reg1: The first classical register.\n",
      "        :param classical_reg2: The second classical register, which gets modified.\n",
      "        :return: A ClassicalMove instance.\n",
      "    \n",
      "    NOT(classical_reg)\n",
      "        Produce a NOT instruction.\n",
      "        \n",
      "        :param classical_reg: A classical register to modify.\n",
      "        :return: A ClassicalNot instance.\n",
      "    \n",
      "    OR(classical_reg1, classical_reg2)\n",
      "        Produce an OR instruction.\n",
      "        \n",
      "        :param classical_reg1: The first classical register.\n",
      "        :param classical_reg2: The second classical register, which gets modified.\n",
      "        :return: A ClassicalOr instance.\n",
      "    \n",
      "    PHASE = gate_function(*params)\n",
      "    \n",
      "    PSWAP = gate_function(*params)\n",
      "    \n",
      "    RX = gate_function(*params)\n",
      "    \n",
      "    RY = gate_function(*params)\n",
      "    \n",
      "    RZ = gate_function(*params)\n",
      "    \n",
      "    S = ctor(*qubits)\n",
      "    \n",
      "    SWAP = ctor(*qubits)\n",
      "    \n",
      "    T = ctor(*qubits)\n",
      "    \n",
      "    TRUE(classical_reg)\n",
      "        Produce a TRUE instruction.\n",
      "        \n",
      "        :param classical_reg: A classical register to modify.\n",
      "        :return: A ClassicalTrue instance.\n",
      "    \n",
      "    X = ctor(*qubits)\n",
      "    \n",
      "    Y = ctor(*qubits)\n",
      "    \n",
      "    Z = ctor(*qubits)\n",
      "\n",
      "DATA\n",
      "    HALT = <pyquil.quilbase.Halt object>\n",
      "    NOP = <pyquil.quilbase.Nop object>\n",
      "    RESET = <pyquil.quilbase.Reset object>\n",
      "    STANDARD_GATES = {'CCNOT': <function _make_gate.<locals>.gate_function...\n",
      "    WAIT = <pyquil.quilbase.Wait object>\n",
      "\n",
      "FILE\n",
      "    c:\\anaconda\\lib\\site-packages\\pyquil\\gates.py\n",
      "\n",
      "\n"
     ]
    }
   ],
   "source": [
    "from pyquil import gates\n",
    "help(gates)"
   ]
  },
  {
   "cell_type": "code",
   "execution_count": 43,
   "metadata": {},
   "outputs": [],
   "source": [
    "rotProg.measure?"
   ]
  },
  {
   "cell_type": "code",
   "execution_count": 44,
   "metadata": {},
   "outputs": [
    {
     "name": "stdout",
     "output_type": "stream",
     "text": [
      "H 3\n",
      "CPHASE(pi/2) 2 3\n",
      "H 2\n",
      "CPHASE(pi/4) 1 3\n",
      "CPHASE(pi/2) 1 2\n",
      "H 1\n",
      "CPHASE(pi/8) 0 3\n",
      "CPHASE(pi/4) 0 2\n",
      "CPHASE(pi/2) 0 1\n",
      "H 0\n",
      "SWAP 0 3\n",
      "SWAP 1 2\n",
      "\n"
     ]
    }
   ],
   "source": [
    "import grove.qft.fourier\n",
    "\n",
    "qft5 = grove.qft.fourier.qft(range(4))\n",
    "print(qft5)"
   ]
  },
  {
   "cell_type": "code",
   "execution_count": null,
   "metadata": {},
   "outputs": [],
   "source": []
  }
 ],
 "metadata": {
  "kernelspec": {
   "display_name": "Python 3",
   "language": "python",
   "name": "python3"
  },
  "language_info": {
   "codemirror_mode": {
    "name": "ipython",
    "version": 3
   },
   "file_extension": ".py",
   "mimetype": "text/x-python",
   "name": "python",
   "nbconvert_exporter": "python",
   "pygments_lexer": "ipython3",
   "version": "3.6.4"
  }
 },
 "nbformat": 4,
 "nbformat_minor": 2
}
