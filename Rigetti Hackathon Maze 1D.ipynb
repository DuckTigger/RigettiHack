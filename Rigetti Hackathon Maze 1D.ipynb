{
 "cells": [
  {
   "cell_type": "markdown",
   "metadata": {},
   "source": [
    "# 1x2 Maze\n",
    "Our simplest maze model."
   ]
  },
  {
   "cell_type": "code",
   "execution_count": 14,
   "metadata": {},
   "outputs": [],
   "source": [
    "import numpy as np\n",
    "from numpy.random import random_integers as rand\n",
    "import pyquil\n",
    "from pyquil.quil import Program\n",
    "from pyquil.api import QVMConnection\n",
    "from pyquil.gates import *\n",
    "from scipy import linalg\n",
    "\n",
    "qvm = QVMConnection()"
   ]
  },
  {
   "cell_type": "code",
   "execution_count": 34,
   "metadata": {},
   "outputs": [],
   "source": [
    "def createToffoli():\n",
    "    identity = np.identity(8)\n",
    "    identity[[6],[6]] = 0\n",
    "    identity[[6],[7]] = 1\n",
    "    identity[[7],[7]] = 0\n",
    "    identity[[7],[6]] = 1\n",
    "    return identity\n",
    "\n",
    "def inverseToffoli():\n",
    "    identity = np.identity(8)\n",
    "    identity[[0],[0]] = 0\n",
    "    identity[[0],[1]] = 1\n",
    "    identity[[1],[1]] = 0\n",
    "    identity[[1],[0]] = 1\n",
    "    return identity\n",
    "\n",
    "def controlSWAPdef():\n",
    "    identity = np.identity(8)\n",
    "    identity[[5],[5]] = 0\n",
    "    identity[[5],[6]] = 1\n",
    "    identity[[6],[6]] = 0\n",
    "    identity[[6],[5]] = 1\n",
    "    return identity\n",
    "\n",
    "def controlHadamard():\n",
    "    identity = np.identity(4)\n",
    "    identity[[2],[2]] = 1/np.sqrt(2)\n",
    "    identity[[2],[3]] = 1/np.sqrt(2)\n",
    "    identity[[3],[2]] = 1/np.sqrt(2)\n",
    "    identity[[3],[3]] = -1/np.sqrt(2)\n",
    "    return identity\n",
    "\n",
    "def quantumRandomWalk(program):\n",
    "    qvm = QVMConnection()\n",
    "    program.inst(('Toffoli', 5,3,0))\n",
    " \n",
    "    program.inst(('invToffoli', 5,3,0))\n",
    "   \n",
    "    program.inst(('Toffoli', 6,4,1))\n",
    " \n",
    "    program.inst(('invToffoli', 6,4,1))\n",
    "\n",
    "    program.inst(('Toffoli', 7,6,5))\n",
    " #   print(qvm.wavefunction(program))\n",
    "    program.inst(('Toffoli', 8,7,2))\n",
    "    print(\"After Toffoli\",qvm.wavefunction(program))\n",
    "    program.inst(('controlSWAP', 3,4,8))\n",
    "    print(\"After CSWAP\",qvm.wavefunction(program))\n",
    "    program.inst(('Toffoli', 8,7,2))\n",
    "    \n",
    "    program.inst(('Toffoli', 7,6,5))\n",
    "    \n",
    "    program.inst(('invToffoli', 6,4,1))\n",
    "    \n",
    "    program.inst(('Toffoli', 6,4,1))\n",
    "    \n",
    "    program.inst(('invToffoli', 5,3,0))\n",
    "    \n",
    "    program.inst(('Toffoli', 5,3,0))\n",
    "    print(\"After Toffoli\", qvm.wavefunction(program))\n",
    "    program.inst(('controlH', 4,3))\n",
    "    print(\"End\",qvm.wavefunction(program))\n",
    "    return(program)\n",
    "\n",
    "def quantumRandomWalk_nQubits(program,n):\n",
    "        i=0\n",
    "        Gx = i\n",
    "        Gy = n+i\n",
    "        A = 2*n\n",
    "        Psi_x = 2*n+1+i\n",
    "        Psi_y = 3*n+1+i\n",
    "        ancilla1 = 4*n+1+i\n",
    "        ancilla2 = 5*n+1+i\n",
    "        ancilla3 = 6*n+1+i\n",
    "        ancilla4  = 7*n+1+i\n",
    "        \n",
    "        program.inst(('Toffoli', Gx, Psi_x, ancilla1 ))\n",
    "        \n",
    "        program.inst(('invToffoli', Gx, Psi_x, ancilla1))\n",
    "        \n",
    "        program.inst(('Toffoli', Gy, Psi_y, ancilla2))\n",
    "        \n",
    "        program.inst(('invToffoli', Gy, Psi_y, ancilla2))\n",
    "        \n",
    "        program.inst(('Toffoli', ancilla1, ancilla2, ancilla3))\n",
    "        \n",
    "        program.inst(('Toffoli', A, ancilla3, ancilla4))\n",
    "\n",
    "        program.inst(('controlSWAP', ancilla4, Psi_x, Psi_y))\n",
    "        \n",
    "        program.inst(('Toffoli', A, ancilla3, ancilla4))\n",
    "        \n",
    "        program.inst(('Toffoli', ancilla1, ancilla2, ancilla3))\n",
    "        \n",
    "        program.inst(('invToffoli', Gy, Psi_y, ancilla2))\n",
    "        \n",
    "        program.inst(('Toffoli', Gy, Psi_y, ancilla2))\n",
    "        \n",
    "        program.inst(('invToffoli', i, Psi_x, ancilla1))\n",
    "        \n",
    "        program.inst(('Toffoli', i, Psi_x, ancilla1))\n",
    "        \n",
    "        program.inst(('controlH', Psi_x, Psi_y))\n",
    "        \n",
    "        return(program)\n",
    "    \n",
    "def quantumRandomWalk_badQubits(program):\n",
    "    \n",
    "    program.inst(('Toffoli', 0,5,17))\n",
    "    program.inst(('invToffoli', 0,5,17))\n",
    "    \n",
    "    program.inst(('Toffoli', 1,4,12))\n",
    "    program.inst(('invToffoli', 1,4,12))\n",
    "    \n",
    "    program.inst(('Toffoli', 17,12,7))\n",
    "    program.inst(('Toffoli', 6,7,8))\n",
    "    \n",
    "    program.inst(('controlSWAP', 8,4,5))\n",
    "    \n",
    "    program.inst(('Toffoli', 6,7,8))\n",
    "    program.inst(('Toffoli', 17,12,7))\n",
    "    \n",
    "    program.inst(('invToffoli', 1,4,12))\n",
    "    program.inst(('Toffoli', 1,4,12))\n",
    "    \n",
    "    program.inst(('invToffoli', 0,5,17))\n",
    "    program.inst(('Toffoli', 0,5,17))\n",
    "    \n",
    "    program.inst(('controlH', 5,4))\n",
    "    \n",
    "    return(program)\n",
    "    \n",
    "\n",
    "def quantumRandomWalk_2QubitMaze(program):\n",
    "    # 3 -> 10\n",
    "    # 2 \n",
    "\n",
    "    program.inst(('Toffoli', 0,3,5))\n",
    "    program.inst(('invToffoli', 0,3,5))\n",
    "    \n",
    "    program.inst(('Toffoli', 1,4,6))\n",
    "    program.inst(('invToffoli', 1,4,6))\n",
    "    \n",
    "    program.inst(('Toffoli', 5,6,7))\n",
    "    program.inst(('Toffoli', 2,7,8))\n",
    "    \n",
    "    program.inst(('controlSWAP', 8,4,3))\n",
    "    \n",
    "    program.inst(('Toffoli', 2,7,8))\n",
    "    program.inst(('Toffoli', 5,6,7))\n",
    "    \n",
    "    program.inst(('invToffoli', 1,4,6))\n",
    "    program.inst(('Toffoli', 1,4,6))\n",
    "    \n",
    "    program.inst(('invToffoli', 0,3,5))\n",
    "    program.inst(('Toffoli', 0,3,5))\n",
    "    \n",
    "    program.inst(('controlH', 3,4))\n",
    "    \n",
    "    return(program)\n",
    "\n",
    "def defineGates(prog):\n",
    "    controlH = controlHadamard()\n",
    "    prog.defgate('controlH', controlH)\n",
    "\n",
    "    controlSWAPgate = controlSWAPdef() \n",
    "    prog.defgate('controlSWAP', controlSWAPgate)\n",
    "\n",
    "    invToffoli = inverseToffoli()\n",
    "    prog.defgate('invToffoli', invToffoli)\n",
    "\n",
    "    Toffoli =  createToffoli()\n",
    "    prog.defgate('Toffoli', Toffoli)\n",
    "    \n",
    "    return(prog)\n",
    "\n",
    "\n",
    "def initialise(prog):\n",
    "    init_gate = np.identity(2**3)\n",
    "    for i in [2,3,4,5]:\n",
    "        init_gate[i,i] = 0.\n",
    "    init_gate[2,3] = 1.\n",
    "    init_gate[3,2] = 1.\n",
    "    init_gate[4,5] = 1.\n",
    "    init_gate[5,4] = 1.\n",
    "\n",
    "\n",
    "    prog.defgate(\"INIT\", init_gate)\n",
    "    prog += H(0)\n",
    "    prog += H(1) \n",
    "    prog.inst((\"INIT\",0,1,6))\n",
    "    \n",
    "    return prog\n",
    "    #results = qvm.run(prog,[0,1,2],1)\n",
    "    #print(results)"
   ]
  },
  {
   "cell_type": "code",
   "execution_count": 35,
   "metadata": {},
   "outputs": [
    {
     "name": "stdout",
     "output_type": "stream",
     "text": [
      "(0.5+0j)|000> + (0.5+0j)|011> + (0.5+0j)|101> + (0.5+0j)|110>\n"
     ]
    }
   ],
   "source": [
    "prog = Program()\n",
    "prog = defineGates(prog)\n",
    "prog = initialise(prog)\n",
    "\n",
    "print(qvm.wavefunction(prog))\n",
    "for i in range(3):\n",
    "    #Start at room 1 -> Look to get to room 0\n",
    "   # prog += H(3)\n",
    "    prog += H(4)\n",
    "    prog = quantumRandomWalk_badQubits(prog)\n",
    "#prog.measure(3,3)\n",
    "#print(prog)\n",
    "\n",
    "#output = qvm.run(prog, [3], trials = 10000)\n",
    "#print(output)\n",
    "#print(np.sum(output))"
   ]
  },
  {
   "cell_type": "markdown",
   "metadata": {},
   "source": [
    "## Doing State Tomography"
   ]
  },
  {
   "cell_type": "code",
   "execution_count": 36,
   "metadata": {},
   "outputs": [
    {
     "name": "stdout",
     "output_type": "stream",
     "text": [
      "Found online device 19Q-Acorn, making QPUConnection\n"
     ]
    },
    {
     "name": "stderr",
     "output_type": "stream",
     "text": [
      "/Library/Frameworks/Python.framework/Versions/3.4/lib/python3.4/site-packages/ipykernel_launcher.py:13: DeprecationWarning: \n",
      "Warning: The return type Set for get_devices() is being deprecated for Dict. This will eventually\n",
      "return the following:\n",
      "\n",
      "    get_devices()\n",
      "    # {'19Q-Acorn': <Device 19Q-Acorn online>, '8Q-Agave': <Device 8Q-Agave offline>}\n",
      "    acorn = get_devices()['19Q-Acorn']\n",
      "\n",
      "To use this Dict return type now, you may optionally pass the flag get_devices(as_dict=True). This\n",
      "will become the default behavior in a future pyQuil release.\n",
      "\n",
      "  del sys.path[0]\n"
     ]
    }
   ],
   "source": [
    "from grove.tomography.state_tomography import do_state_tomography\n",
    "from grove.tomography.utils import notebook_mode\n",
    "from pyquil.api import QPUConnection, get_devices, Job\n",
    "import json\n",
    "from mock import MagicMock\n",
    "from __future__ import print_function\n",
    "import matplotlib.pyplot as plt\n",
    "\n",
    "qubits = [5]\n",
    "qvm = QVMConnection()\n",
    "NUM_SAMPLES=2000\n",
    "# QPU\n",
    "online_devices = [d for d in get_devices() if d.is_online()]\n",
    "if online_devices:\n",
    "    d = online_devices[0]\n",
    "    qpu = QPUConnection(d.name)\n",
    "    print(\"Found online device {}, making QPUConnection\".format(d.name))\n",
    "else:\n",
    "    qpu = QVMConnection()\n",
    "    print(\"Could not find online device, defaulting to QVM\")"
   ]
  },
  {
   "cell_type": "code",
   "execution_count": 41,
   "metadata": {},
   "outputs": [],
   "source": [
    "#Use for testing purposes only\n",
    "acorn = get_devices(as_dict=True)['19Q-Acorn']\n",
    "qpu = QVMConnection(acorn)"
   ]
  },
  {
   "cell_type": "code",
   "execution_count": 42,
   "metadata": {},
   "outputs": [
    {
     "name": "stderr",
     "output_type": "stream",
     "text": [
      "\r",
      "  0%|          | 0/2 [00:00<?, ?it/s]"
     ]
    },
    {
     "name": "stdout",
     "output_type": "stream",
     "text": [
      "Running state tomography on the QPU...\n"
     ]
    },
    {
     "name": "stderr",
     "output_type": "stream",
     "text": [
      "100%|██████████| 2/2 [00:03<00:00,  1.57s/it]\n",
      "  0%|          | 0/2 [00:00<?, ?it/s]"
     ]
    },
    {
     "name": "stdout",
     "output_type": "stream",
     "text": [
      "job WlZgQfKunjgjBDhC is currently running\n"
     ]
    },
    {
     "name": "stderr",
     "output_type": "stream",
     "text": [
      "\r",
      " 50%|█████     | 1/2 [00:01<00:01,  1.94s/it]"
     ]
    },
    {
     "name": "stdout",
     "output_type": "stream",
     "text": [
      "job dzYaPxSOXbARhGDC is currently running\n"
     ]
    },
    {
     "name": "stderr",
     "output_type": "stream",
     "text": [
      "100%|██████████| 2/2 [00:03<00:00,  1.84s/it]\n",
      "100%|██████████| 4/4 [00:05<00:00,  1.34s/it]\n",
      "  0%|          | 0/4 [00:00<?, ?it/s]\n"
     ]
    },
    {
     "ename": "QVMError",
     "evalue": "There is no primary method for the generic function\n  #<STANDARD-GENERIC-FUNCTION QVM:TRANSITION (27)>\nwhen called with arguments\n  (#<QVM-APP::PROFILED-NOISY-QVM {100A64B363}>\n   #<CL-QUIL:UNRESOLVED-APPLICATION {100A5BEE43}>).\nSee also:\n  The ANSI Standard, Section 7.6.6.2\n\nThe QVM returned the above error. This could be due to a bug in the server or a\nbug in your code. If you suspect this to be a bug in pyQuil or Rigetti Forest,\nthen please describe the problem in a GitHub issue at:\n    https://github.com/rigetticomputing/pyquil/issues",
     "output_type": "error",
     "traceback": [
      "\u001b[0;31m---------------------------------------------------------------------------\u001b[0m",
      "\u001b[0;31mQVMError\u001b[0m                                  Traceback (most recent call last)",
      "\u001b[0;32m<timed exec>\u001b[0m in \u001b[0;36m<module>\u001b[0;34m()\u001b[0m\n",
      "\u001b[0;32m/Library/Frameworks/Python.framework/Versions/3.4/lib/python3.4/site-packages/grove/tomography/state_tomography.py\u001b[0m in \u001b[0;36mdo_state_tomography\u001b[0;34m(preparation_program, nsamples, cxn, qubits, use_run)\u001b[0m\n\u001b[1;32m    263\u001b[0m                                      \u001b[0mtomography\u001b[0m\u001b[0;34m.\u001b[0m\u001b[0mMAX_QUBITS_STATE_TOMO\u001b[0m\u001b[0;34m,\u001b[0m\u001b[0;34m\u001b[0m\u001b[0m\n\u001b[1;32m    264\u001b[0m                                      \u001b[0mStateTomography\u001b[0m\u001b[0;34m,\u001b[0m \u001b[0mstate_tomography_programs\u001b[0m\u001b[0;34m,\u001b[0m\u001b[0;34m\u001b[0m\u001b[0m\n\u001b[0;32m--> 265\u001b[0;31m                                      DEFAULT_STATE_TOMO_SETTINGS, use_run=use_run)\n\u001b[0m",
      "\u001b[0;32m/Library/Frameworks/Python.framework/Versions/3.4/lib/python3.4/site-packages/grove/tomography/tomography.py\u001b[0m in \u001b[0;36m_do_tomography\u001b[0;34m(target_program, nsamples, cxn, qubits, max_num_qubits, tomography_class, program_generator, settings, use_run)\u001b[0m\n\u001b[1;32m    220\u001b[0m     \u001b[0;32mfor\u001b[0m \u001b[0mi\u001b[0m\u001b[0;34m,\u001b[0m \u001b[0mjob_id\u001b[0m \u001b[0;32min\u001b[0m \u001b[0mizip\u001b[0m\u001b[0;34m(\u001b[0m\u001b[0mut\u001b[0m\u001b[0;34m.\u001b[0m\u001b[0mTRANGE\u001b[0m\u001b[0;34m(\u001b[0m\u001b[0mlen\u001b[0m\u001b[0;34m(\u001b[0m\u001b[0mjobs\u001b[0m\u001b[0;34m)\u001b[0m\u001b[0;34m)\u001b[0m\u001b[0;34m,\u001b[0m \u001b[0mjobs\u001b[0m\u001b[0;34m)\u001b[0m\u001b[0;34m:\u001b[0m\u001b[0;34m\u001b[0m\u001b[0m\n\u001b[1;32m    221\u001b[0m         \u001b[0mjob\u001b[0m \u001b[0;34m=\u001b[0m \u001b[0mcxn\u001b[0m\u001b[0;34m.\u001b[0m\u001b[0mwait_for_job\u001b[0m\u001b[0;34m(\u001b[0m\u001b[0mjob_id\u001b[0m\u001b[0;34m)\u001b[0m\u001b[0;34m\u001b[0m\u001b[0m\n\u001b[0;32m--> 222\u001b[0;31m         \u001b[0mresults\u001b[0m \u001b[0;34m=\u001b[0m \u001b[0mjob\u001b[0m\u001b[0;34m.\u001b[0m\u001b[0mresult\u001b[0m\u001b[0;34m(\u001b[0m\u001b[0;34m)\u001b[0m\u001b[0;34m\u001b[0m\u001b[0m\n\u001b[0m\u001b[1;32m    223\u001b[0m         \u001b[0midxs\u001b[0m \u001b[0;34m=\u001b[0m \u001b[0mlist\u001b[0m\u001b[0;34m(\u001b[0m\u001b[0mmap\u001b[0m\u001b[0;34m(\u001b[0m\u001b[0mbitlist_to_int\u001b[0m\u001b[0;34m,\u001b[0m \u001b[0mresults\u001b[0m\u001b[0;34m)\u001b[0m\u001b[0;34m)\u001b[0m\u001b[0;34m\u001b[0m\u001b[0m\n\u001b[1;32m    224\u001b[0m         \u001b[0mhistograms\u001b[0m\u001b[0;34m[\u001b[0m\u001b[0mi\u001b[0m\u001b[0;34m]\u001b[0m \u001b[0;34m=\u001b[0m \u001b[0mut\u001b[0m\u001b[0;34m.\u001b[0m\u001b[0mmake_histogram\u001b[0m\u001b[0;34m(\u001b[0m\u001b[0midxs\u001b[0m\u001b[0;34m,\u001b[0m \u001b[0mdimension\u001b[0m\u001b[0;34m)\u001b[0m\u001b[0;34m\u001b[0m\u001b[0m\n",
      "\u001b[0;32m/Library/Frameworks/Python.framework/Versions/3.4/lib/python3.4/site-packages/pyquil/api/job.py\u001b[0m in \u001b[0;36mresult\u001b[0;34m(self)\u001b[0m\n\u001b[1;32m     65\u001b[0m         \u001b[0;32melif\u001b[0m \u001b[0mself\u001b[0m\u001b[0;34m.\u001b[0m\u001b[0m_raw\u001b[0m\u001b[0;34m[\u001b[0m\u001b[0;34m'status'\u001b[0m\u001b[0;34m]\u001b[0m \u001b[0;34m==\u001b[0m \u001b[0;34m'ERROR'\u001b[0m\u001b[0;34m:\u001b[0m\u001b[0;34m\u001b[0m\u001b[0m\n\u001b[1;32m     66\u001b[0m             \u001b[0;32mif\u001b[0m \u001b[0mself\u001b[0m\u001b[0;34m.\u001b[0m\u001b[0m_machine\u001b[0m \u001b[0;34m==\u001b[0m \u001b[0;34m'QVM'\u001b[0m\u001b[0;34m:\u001b[0m\u001b[0;34m\u001b[0m\u001b[0m\n\u001b[0;32m---> 67\u001b[0;31m                 \u001b[0;32mraise\u001b[0m \u001b[0mQVMError\u001b[0m\u001b[0;34m(\u001b[0m\u001b[0mself\u001b[0m\u001b[0;34m.\u001b[0m\u001b[0m_raw\u001b[0m\u001b[0;34m[\u001b[0m\u001b[0;34m'result'\u001b[0m\u001b[0;34m]\u001b[0m\u001b[0;34m)\u001b[0m\u001b[0;34m\u001b[0m\u001b[0m\n\u001b[0m\u001b[1;32m     68\u001b[0m             \u001b[0;32melse\u001b[0m\u001b[0;34m:\u001b[0m  \u001b[0;31m# self._machine == 'QPU'\u001b[0m\u001b[0;34m\u001b[0m\u001b[0m\n\u001b[1;32m     69\u001b[0m                 \u001b[0;32mraise\u001b[0m \u001b[0mQPUError\u001b[0m\u001b[0;34m(\u001b[0m\u001b[0mself\u001b[0m\u001b[0;34m.\u001b[0m\u001b[0m_raw\u001b[0m\u001b[0;34m[\u001b[0m\u001b[0;34m'result'\u001b[0m\u001b[0;34m]\u001b[0m\u001b[0;34m)\u001b[0m\u001b[0;34m\u001b[0m\u001b[0m\n",
      "\u001b[0;31mQVMError\u001b[0m: There is no primary method for the generic function\n  #<STANDARD-GENERIC-FUNCTION QVM:TRANSITION (27)>\nwhen called with arguments\n  (#<QVM-APP::PROFILED-NOISY-QVM {100A64B363}>\n   #<CL-QUIL:UNRESOLVED-APPLICATION {100A5BEE43}>).\nSee also:\n  The ANSI Standard, Section 7.6.6.2\n\nThe QVM returned the above error. This could be due to a bug in the server or a\nbug in your code. If you suspect this to be a bug in pyQuil or Rigetti Forest,\nthen please describe the problem in a GitHub issue at:\n    https://github.com/rigetticomputing/pyquil/issues"
     ]
    }
   ],
   "source": [
    "%%time\n",
    "print(\"Running state tomography on the QPU...\")\n",
    "state_tomography_qpu, _, _ = do_state_tomography(prog, NUM_SAMPLES, qpu, qubits)\n",
    "print(\"State tomography completed.\")\n",
    "print(\"Running state tomography on the QVM for reference...\")\n",
    "state_tomography_qvm, _, _ = do_state_tomography(prog, NUM_SAMPLES, qvm, qubits)\n",
    "print(\"State tomography completed.\")"
   ]
  },
  {
   "cell_type": "code",
   "execution_count": 29,
   "metadata": {},
   "outputs": [
    {
     "name": "stdout",
     "output_type": "stream",
     "text": [
      "Quantum object: dims = [[2], [2]], shape = (2, 2), type = oper, isherm = True\n",
      "Qobj data =\n",
      "[[ -3.37625744e-08+0.j          -1.74999680e-02+0.00750016j]\n",
      " [ -1.74999680e-02-0.00750016j   1.00000015e+00+0.j        ]]\n",
      "Quantum object: dims = [[2], [2]], shape = (2, 2), type = oper, isherm = True\n",
      "Qobj data =\n",
      "[[ 0.49693875 -0.5       ]\n",
      " [-0.5         0.50306125]]\n"
     ]
    },
    {
     "data": {
      "image/png": "[encoded data removed]",
      "text/plain": [
       "<matplotlib.figure.Figure at 0x11b530b38>"
      ]
     },
     "execution_count": 29,
     "metadata": {},
     "output_type": "execute_result"
    }
   ],
   "source": [
    "print(state_tomography_qvm.rho_est)\n",
    "state_fidelity = state_tomography_qpu.fidelity(state_tomography_qvm.rho_est)\n",
    "\n",
    "print(state_tomography_qpu.rho_est)\n",
    "qpu_plot = state_tomography_qpu.plot()\n",
    "qpu_plot.text(0.35, 0.9, r'$Fidelity={:1.1f}\\%$'.format(state_fidelity*100), size=20)\n",
    "state_tomography_qvm.plot()"
   ]
  },
  {
   "cell_type": "code",
   "execution_count": null,
   "metadata": {},
   "outputs": [],
   "source": []
  }
 ],
 "metadata": {
  "kernelspec": {
   "display_name": "Python 3",
   "language": "python",
   "name": "python3"
  },
  "language_info": {
   "codemirror_mode": {
    "name": "ipython",
    "version": 3
   },
   "file_extension": ".py",
   "mimetype": "text/x-python",
   "name": "python",
   "nbconvert_exporter": "python",
   "pygments_lexer": "ipython3",
   "version": "3.4.4"
  }
 },
 "nbformat": 4,
 "nbformat_minor": 2
}
