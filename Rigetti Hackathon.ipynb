{
 "cells": [
  {
   "cell_type": "markdown",
   "metadata": {},
   "source": [
    "## Maze generation algorithm\n",
    "1. Depth first search\n",
    "2. Recursive backtracker"
   ]
  },
  {
   "cell_type": "code",
   "execution_count": 53,
   "metadata": {},
   "outputs": [
    {
     "name": "stderr",
     "output_type": "stream",
     "text": [
      "C:\\Anaconda\\lib\\site-packages\\ipykernel_launcher.py:20: DeprecationWarning: This function is deprecated. Please call randint(0, 40 + 1) instead\n",
      "C:\\Anaconda\\lib\\site-packages\\ipykernel_launcher.py:20: DeprecationWarning: This function is deprecated. Please call randint(0, 20 + 1) instead\n",
      "C:\\Anaconda\\lib\\site-packages\\ipykernel_launcher.py:29: DeprecationWarning: This function is deprecated. Please call randint(0, 3 + 1) instead\n",
      "C:\\Anaconda\\lib\\site-packages\\ipykernel_launcher.py:29: DeprecationWarning: This function is deprecated. Please call randint(0, 2 + 1) instead\n",
      "C:\\Anaconda\\lib\\site-packages\\ipykernel_launcher.py:29: DeprecationWarning: This function is deprecated. Please call randint(0, 1 + 1) instead\n"
     ]
    },
    {
     "data": {
      "image/png": "[encoded data removed]",
      "text/plain": [
       "<matplotlib.figure.Figure at 0x17513738ef0>"
      ]
     },
     "metadata": {},
     "output_type": "display_data"
    }
   ],
   "source": [
    "#This one creates loops\n",
    "import numpy as np\n",
    "from numpy.random import random_integers as rand\n",
    "import matplotlib.pyplot as pyplot\n",
    "%matplotlib inline\n",
    "\n",
    "def maze(width=4, height=4, complexity=.75, density=.75):\n",
    "    # Only odd shapes\n",
    "    shape = ((height // 2) * 2 + 1, (width // 2) * 2 + 1)\n",
    "    # Adjust complexity and density relative to maze size\n",
    "    complexity = int(complexity * (5 * (shape[0] + shape[1])))\n",
    "    density    = int(density * ((shape[0] // 2) * (shape[1] // 2)))\n",
    "    # Build actual maze\n",
    "    Z = numpy.zeros(shape, dtype=bool)\n",
    "    # Fill borders\n",
    "    Z[0, :] = Z[-1, :] = 1\n",
    "    Z[:, 0] = Z[:, -1] = 1\n",
    "    # Make aisles\n",
    "    for i in range(density):\n",
    "        x, y = rand(0, shape[1] // 2) * 2, rand(0, shape[0] // 2) * 2\n",
    "        Z[y, x] = 1\n",
    "        for j in range(complexity):\n",
    "            neighbours = []\n",
    "            if x > 1:             neighbours.append((y, x - 2))\n",
    "            if x < shape[1] - 2:  neighbours.append((y, x + 2))\n",
    "            if y > 1:             neighbours.append((y - 2, x))\n",
    "            if y < shape[0] - 2:  neighbours.append((y + 2, x))\n",
    "            if len(neighbours):\n",
    "                y_,x_ = neighbours[rand(0, len(neighbours) - 1)]\n",
    "                if Z[y_, x_] == 0:\n",
    "                    Z[y_, x_] = 1\n",
    "                    Z[y_ + (y - y_) // 2, x_ + (x - x_) // 2] = 1\n",
    "                    x, y = x_, y_\n",
    "    return Z\n",
    "\n",
    "pyplot.figure(figsize=(10, 5))\n",
    "pyplot.imshow(maze(80, 40), cmap=pyplot.cm.binary, interpolation='nearest')\n",
    "pyplot.xticks([]), pyplot.yticks([])\n",
    "pyplot.show()"
   ]
  },
  {
   "cell_type": "code",
   "execution_count": 103,
   "metadata": {},
   "outputs": [
    {
     "name": "stdout",
     "output_type": "stream",
     "text": [
      "[[1. 0. 0. 0. 0. 0. 0. 0.]\n",
      " [0. 1. 0. 0. 0. 0. 0. 0.]\n",
      " [0. 0. 1. 0. 0. 0. 0. 0.]\n",
      " [0. 0. 0. 1. 0. 0. 0. 0.]\n",
      " [0. 0. 0. 0. 1. 0. 0. 0.]\n",
      " [0. 0. 0. 0. 0. 1. 0. 0.]\n",
      " [0. 0. 0. 0. 0. 0. 0. 1.]\n",
      " [0. 0. 0. 0. 0. 0. 1. 0.]]\n"
     ]
    }
   ],
   "source": [
    "#Create one step of a QRW\n",
    "import pyquil\n",
    "from pyquil.quil import Program\n",
    "from pyquil.api import QVMConnection\n",
    "from pyquil.gates import *\n",
    "\n",
    "def createToffoli():\n",
    "    identity = np.identity(8)\n",
    "    identity[[6],[6]] = 0\n",
    "    identity[[6],[7]] = 1\n",
    "    identity[[7],[7]] = 0\n",
    "    identity[[7],[6]] = 1\n",
    "    return identity\n",
    "\n",
    "print(createToffoli())"
   ]
  },
  {
   "cell_type": "code",
   "execution_count": 104,
   "metadata": {},
   "outputs": [
    {
     "name": "stdout",
     "output_type": "stream",
     "text": [
      "DEFGATE Toffoli:\n",
      "    1.0, 0, 0, 0, 0, 0, 0, 0\n",
      "    0, 1.0, 0, 0, 0, 0, 0, 0\n",
      "    0, 0, 1.0, 0, 0, 0, 0, 0\n",
      "    0, 0, 0, 1.0, 0, 0, 0, 0\n",
      "    0, 0, 0, 0, 1.0, 0, 0, 0\n",
      "    0, 0, 0, 0, 0, 1.0, 0, 0\n",
      "    0, 0, 0, 0, 0, 0, 0, 1.0\n",
      "    0, 0, 0, 0, 0, 0, 1.0, 0\n",
      "\n",
      "X 0\n",
      "X 1\n",
      "Toffoli 0 1 2\n",
      "MEASURE 2 [2]\n",
      "MEASURE 0 [0]\n",
      "MEASURE 1 [1]\n",
      "\n"
     ]
    },
    {
     "data": {
      "text/plain": [
       "[[1, 1, 1]]"
      ]
     },
     "execution_count": 104,
     "metadata": {},
     "output_type": "execute_result"
    }
   ],
   "source": [
    "#Creating a Toffoli and checking\n",
    "qvm = QVMConnection()\n",
    "Toffoli =  createToffoli()\n",
    "prog = Program()\n",
    "prog.defgate('Toffoli', Toffoli)\n",
    "\n",
    "prog.inst(X(0),X(1))\n",
    "prog.inst(('Toffoli', 0,1,2)).measure(2,2).measure(0,0).measure(1,1)\n",
    "print(prog)\n",
    "classical_regs  = [0,1,2]\n",
    "qvm.run(prog, classical_regs)"
   ]
  },
  {
   "cell_type": "code",
   "execution_count": 105,
   "metadata": {},
   "outputs": [
    {
     "name": "stdout",
     "output_type": "stream",
     "text": [
      "DEFGATE invToffoli:\n",
      "    0, 1.0, 0, 0, 0, 0, 0, 0\n",
      "    1.0, 0, 0, 0, 0, 0, 0, 0\n",
      "    0, 0, 1.0, 0, 0, 0, 0, 0\n",
      "    0, 0, 0, 1.0, 0, 0, 0, 0\n",
      "    0, 0, 0, 0, 1.0, 0, 0, 0\n",
      "    0, 0, 0, 0, 0, 1.0, 0, 0\n",
      "    0, 0, 0, 0, 0, 0, 1.0, 0\n",
      "    0, 0, 0, 0, 0, 0, 0, 1.0\n",
      "\n",
      "invToffoli 0 1 2\n",
      "MEASURE 0 [0]\n",
      "MEASURE 1 [1]\n",
      "MEASURE 2 [2]\n",
      "\n"
     ]
    },
    {
     "data": {
      "text/plain": [
       "[[0, 0, 1]]"
      ]
     },
     "execution_count": 105,
     "metadata": {},
     "output_type": "execute_result"
    }
   ],
   "source": [
    "def inverseToffoli():\n",
    "    identity = np.identity(8)\n",
    "    identity[[0],[0]] = 0\n",
    "    identity[[0],[1]] = 1\n",
    "    identity[[1],[1]] = 0\n",
    "    identity[[1],[0]] = 1\n",
    "    return identity\n",
    "invToffoli = inverseToffoli()\n",
    "\n",
    "prog = Program()\n",
    "prog.defgate('invToffoli', invToffoli)\n",
    "prog.inst(('invToffoli', 0,1,2)).measure(0,0).measure(1,1).measure(2,2)\n",
    "print(prog)\n",
    "qvm.run(prog, classical_regs)"
   ]
  },
  {
   "cell_type": "code",
   "execution_count": 107,
   "metadata": {},
   "outputs": [
    {
     "name": "stdout",
     "output_type": "stream",
     "text": [
      "DEFGATE controlSWAP:\n",
      "    1.0, 0, 0, 0, 0, 0, 0, 0\n",
      "    0, 1.0, 0, 0, 0, 0, 0, 0\n",
      "    0, 0, 1.0, 0, 0, 0, 0, 0\n",
      "    0, 0, 0, 1.0, 0, 0, 0, 0\n",
      "    0, 0, 0, 0, 1.0, 0, 0, 0\n",
      "    0, 0, 0, 0, 0, 0, 1.0, 0\n",
      "    0, 0, 0, 0, 0, 1.0, 0, 0\n",
      "    0, 0, 0, 0, 0, 0, 0, 1.0\n",
      "\n",
      "X 0\n",
      "X 1\n",
      "controlSWAP 0 1 2\n",
      "MEASURE 0 [0]\n",
      "MEASURE 1 [1]\n",
      "MEASURE 2 [2]\n",
      "\n"
     ]
    },
    {
     "data": {
      "text/plain": [
       "[[1, 0, 1]]"
      ]
     },
     "execution_count": 107,
     "metadata": {},
     "output_type": "execute_result"
    }
   ],
   "source": [
    "def controlSWAP():\n",
    "    identity = np.identity(8)\n",
    "    identity[[5],[5]] = 0\n",
    "    identity[[5],[6]] = 1\n",
    "    identity[[6],[6]] = 0\n",
    "    identity[[6],[5]] = 1\n",
    "    return identity\n",
    "\n",
    "prog = Program()\n",
    "controlSWAP = controlSWAP()\n",
    "prog.defgate('controlSWAP', controlSWAP)\n",
    "prog.inst(X(0), X(1), ('controlSWAP',0,1,2)).measure(0,0).measure(1,1).measure(2,2)\n",
    "print(prog)\n",
    "qvm.run(prog, classical_regs)"
   ]
  },
  {
   "cell_type": "code",
   "execution_count": 108,
   "metadata": {},
   "outputs": [
    {
     "data": {
      "text/plain": [
       "[[1, 0],\n",
       " [1, 1],\n",
       " [1, 1],\n",
       " [1, 1],\n",
       " [1, 0],\n",
       " [1, 1],\n",
       " [1, 0],\n",
       " [1, 1],\n",
       " [1, 0],\n",
       " [1, 0]]"
      ]
     },
     "execution_count": 108,
     "metadata": {},
     "output_type": "execute_result"
    }
   ],
   "source": [
    "def controlHadamard():\n",
    "    identity = np.identity(4)\n",
    "    identity[[2],[2]] = 1/np.sqrt(2)\n",
    "    identity[[2],[3]] = 1/np.sqrt(2)\n",
    "    identity[[3],[2]] = 1/np.sqrt(2)\n",
    "    identity[[3],[3]] = -1/np.sqrt(2)\n",
    "    return identity\n",
    "\n",
    "controlH = controlHadamard()\n",
    "prog = Program()\n",
    "prog.defgate('controlH', controlH)\n",
    "prog.inst(X(0), ('controlH', 0,1)).measure(0,0).measure(1,1)\n",
    "reg = [0,1]\n",
    "qvm.run(prog, reg, trials = 10)\n"
   ]
  },
  {
   "cell_type": "raw",
   "metadata": {},
   "source": [
    "\n",
    "def defineGates(prog):\n",
    "    controlH = controlHadamard()\n",
    "    prog.defgate('controlH', controlH)\n",
    "    \n",
    "    controlSWAP = controlSWAP()\n",
    "    prog.defgate('controlSWAP', controlSWAP)\n",
    "    \n",
    "    invToffoli = inverseToffoli()\n",
    "    prog.defgate('invToffoli', invToffoli)\n",
    "    \n",
    "    Toffoli =  createToffoli()\n",
    "    prog.defgate('Toffoli', Toffoli)\n",
    "    \n",
    "    return prog\n",
    "\n",
    "def quantumRandomWalk(program):\n",
    "    program.inst(('Toffoli', 0,4,5))\n",
    "    program.inst(('Toffoli', 1,4,6))\n",
    "    program.inst(('invToffoli', 0,4,5))\n",
    "    program.inst(('invToffoli', 1,4,6))\n",
    "    \n",
    "    program.inst(('Toffoli', 2,4,7))\n",
    "    program.inst(('Toffoli', 3,4,8))\n",
    "    program.inst(('invToffoli', 2,4,7))\n",
    "    program.inst(('invToffoli', 3,4,8))\n",
    "    \n",
    "    program.inst(('Toffoli', 9,11,13))\n",
    "    program.inst(('Toffoli', 10,12,14))\n",
    "    \n",
    "    program.inst(('Toffoli', 4,13,15))\n",
    "    program.inst(('Toffoli', 4,14,16))\n",
    "    \n",
    "    program.inst(('controlSWAP', 15,7,5))\n",
    "    program.inst(('controlSWAP', 16,8,6))\n",
    "    \n",
    "    program.inst(('Toffoli', 4,13,15))\n",
    "    program.inst(('Toffoli', 4,14,16))\n",
    "    \n",
    "    program.inst(('Toffoli', 9,11,13))\n",
    "    program.inst(('Toffoli', 10,12,14))\n",
    "    \n",
    "    program.inst(('Toffoli', 2,4,7))\n",
    "    program.inst(('Toffoli', 3,4,8))\n",
    "    program.inst(('invToffoli', 2,4,7))\n",
    "    program.inst(('invToffoli', 3,4,8))\n",
    "    \n",
    "    program.inst(('Toffoli', 0,4,5))\n",
    "    program.inst(('Toffoli', 1,4,6))\n",
    "    program.inst(('invToffoli', 0,4,5))\n",
    "    program.inst(('invToffoli', 1,4,6))\n",
    "    \n",
    "    program.inst(('controlH', 5,7))\n",
    "    program.inst(('controlH', 6,8))\n",
    "    \n",
    "    return(program)\n"
   ]
  },
  {
   "cell_type": "code",
   "execution_count": 124,
   "metadata": {},
   "outputs": [],
   "source": [
    "def quantumRandomWalk(program):\n",
    "    program.inst(('Toffoli', 0,3,5))\n",
    "    \n",
    "    program.inst(('invToffoli', 0,3,5))\n",
    "    \n",
    "    \n",
    "    program.inst(('Toffoli', 1,4,6))\n",
    "    \n",
    "    program.inst(('invToffoli', 1,4,6))\n",
    "    \n",
    "    \n",
    "    program.inst(('Toffoli', 5,6,7))\n",
    "    \n",
    "    \n",
    "    program.inst(('Toffoli', 2,7,8))\n",
    "    \n",
    "    \n",
    "    program.inst(('controlSWAP', 8,4,3))\n",
    "    \n",
    "    program.inst(('Toffoli', 2,7,8))\n",
    "    \n",
    "    program.inst(('Toffoli', 5,6,7))\n",
    "    \n",
    "    program.inst(('invToffoli', 1,4,6))\n",
    "    \n",
    "    program.inst(('Toffoli', 1,4,6))\n",
    "    \n",
    "    program.inst(('invToffoli', 0,3,5))\n",
    "    \n",
    "    program.inst(('Toffoli', 0,3,5))\n",
    "    \n",
    "    program.inst(('controlH', 3,4))\n",
    "    \n",
    "    return(program)"
   ]
  },
  {
   "cell_type": "code",
   "execution_count": 129,
   "metadata": {},
   "outputs": [
    {
     "name": "stderr",
     "output_type": "stream",
     "text": [
      "C:\\Anaconda\\lib\\site-packages\\pyquil\\quil.py:128: UserWarning: Gate controlH has already been defined in this program\n",
      "  warnings.warn(\"Gate {} has already been defined in this program\".format(instruction.name))\n"
     ]
    },
    {
     "ename": "TypeError",
     "evalue": "'numpy.ndarray' object is not callable",
     "output_type": "error",
     "traceback": [
      "\u001b[1;31m---------------------------------------------------------------------------\u001b[0m",
      "\u001b[1;31mTypeError\u001b[0m                                 Traceback (most recent call last)",
      "\u001b[1;32m<ipython-input-129-6b7c528f6b9f>\u001b[0m in \u001b[0;36m<module>\u001b[1;34m()\u001b[0m\n\u001b[0;32m      2\u001b[0m \u001b[0mprog\u001b[0m\u001b[1;33m.\u001b[0m\u001b[0mdefgate\u001b[0m\u001b[1;33m(\u001b[0m\u001b[1;34m'controlH'\u001b[0m\u001b[1;33m,\u001b[0m \u001b[0mcontrolH\u001b[0m\u001b[1;33m)\u001b[0m\u001b[1;33m\u001b[0m\u001b[0m\n\u001b[0;32m      3\u001b[0m \u001b[1;33m\u001b[0m\u001b[0m\n\u001b[1;32m----> 4\u001b[1;33m \u001b[0mcontrolSWAP\u001b[0m \u001b[1;33m=\u001b[0m \u001b[0mcontrolSWAP\u001b[0m\u001b[1;33m(\u001b[0m\u001b[1;33m)\u001b[0m\u001b[1;33m\u001b[0m\u001b[0m\n\u001b[0m\u001b[0;32m      5\u001b[0m \u001b[1;31m#identity = np.identity(8)\u001b[0m\u001b[1;33m\u001b[0m\u001b[1;33m\u001b[0m\u001b[0m\n\u001b[0;32m      6\u001b[0m \u001b[1;31m#identity[[5],[5]] = 0\u001b[0m\u001b[1;33m\u001b[0m\u001b[1;33m\u001b[0m\u001b[0m\n",
      "\u001b[1;31mTypeError\u001b[0m: 'numpy.ndarray' object is not callable"
     ]
    }
   ],
   "source": [
    "controlH = controlHadamard()\n",
    "prog.defgate('controlH', controlH)\n",
    "\n",
    "controlSWAP = controlSWAP()\n",
    "#identity = np.identity(8)\n",
    "#identity[[5],[5]] = 0\n",
    "#identity[[5],[6]] = 1\n",
    "#identity[[6],[6]] = 0\n",
    "#identity[[6],[5]] = 1\n",
    "\n",
    "\n",
    "#controlSWAP = identity \n",
    "prog.defgate('controlSWAP', controlSWAP)\n",
    "\n",
    "invToffoli = inverseToffoli()\n",
    "prog.defgate('invToffoli', invToffoli)\n",
    "\n",
    "Toffoli =  createToffoli()\n",
    "prog.defgate('Toffoli', Toffoli)"
   ]
  },
  {
   "cell_type": "code",
   "execution_count": 112,
   "metadata": {},
   "outputs": [
    {
     "name": "stdout",
     "output_type": "stream",
     "text": [
      "(0.5+0j)|000> + (0.5+0j)|011> + (0.5+0j)|101> + (0.5+0j)|110>\n"
     ]
    }
   ],
   "source": [
    "prog = Program()\n",
    "\n",
    "init_gate = np.identity(2**3)\n",
    "for i in [2,3,4,5]:\n",
    "    init_gate[i,i] = 0.\n",
    "init_gate[2,3] = 1.\n",
    "init_gate[3,2] = 1.\n",
    "init_gate[4,5] = 1.\n",
    "init_gate[5,4] = 1.\n",
    "\n",
    "\n",
    "prog.defgate(\"INIT\", init_gate)\n",
    "prog += H(0)\n",
    "prog += H(1) \n",
    "prog.inst((\"INIT\",0,1,2))\n",
    "\n",
    "qvm = QVMConnection()\n",
    "print(qvm.wavefunction(prog))\n",
    "#results = qvm.run(prog,[0,1,2],1)\n",
    "#print(results)"
   ]
  },
  {
   "cell_type": "code",
   "execution_count": 128,
   "metadata": {},
   "outputs": [
    {
     "data": {
      "text/plain": [
       "[[0], [0], [0], [0], [0], [0], [0], [0], [0], [0]]"
      ]
     },
     "execution_count": 128,
     "metadata": {},
     "output_type": "execute_result"
    }
   ],
   "source": [
    "prog  = quantumRandomWalk(prog)\n",
    "#prog = Program()\n",
    "prog.measure(4,4)\n",
    "\n",
    "qubits  = [x for x in range(9)]\n",
    "qvm.run(prog, [4], trials = 10)"
   ]
  },
  {
   "cell_type": "code",
   "execution_count": null,
   "metadata": {},
   "outputs": [],
   "source": []
  }
 ],
 "metadata": {
  "kernelspec": {
   "display_name": "Python 3",
   "language": "python",
   "name": "python3"
  },
  "language_info": {
   "codemirror_mode": {
    "name": "ipython",
    "version": 3
   },
   "file_extension": ".py",
   "mimetype": "text/x-python",
   "name": "python",
   "nbconvert_exporter": "python",
   "pygments_lexer": "ipython3",
   "version": "3.6.4"
  }
 },
 "nbformat": 4,
 "nbformat_minor": 2
}
