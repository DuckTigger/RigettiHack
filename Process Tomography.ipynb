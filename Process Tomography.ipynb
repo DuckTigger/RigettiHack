{
 "cells": [
  {
   "cell_type": "markdown",
   "metadata": {},
   "source": [
    "# Process Tomography of the CZ gates"
   ]
  },
  {
   "cell_type": "code",
   "execution_count": 6,
   "metadata": {},
   "outputs": [],
   "source": [
    "import numpy as np\n",
    "from pyquil.quil import Program\n",
    "from pyquil.api import QVMConnection\n",
    "from pyquil.gates import *\n",
    "\n",
    "qvm = QVMConnection()\n",
    "\n",
    "from grove.tomography.process_tomography import do_process_tomography\n",
    "from grove.tomography.utils import notebook_mode\n",
    "from pyquil.api import QPUConnection, get_devices\n",
    "#from mock import MagicMock\n",
    "import json\n",
    "from __future__ import print_function\n",
    "import matplotlib.pyplot as plt\n",
    "\n",
    "#Fake QPU\n",
    "acorn = get_devices(as_dict=True)['19Q-Acorn']\n",
    "qpu = QVMConnection(acorn)\n",
    "\n",
    "#To do\n",
    "#all_qubits = np.array([[0,5],[0,6],[1,6],[1,7],[2,7],[2,8],[4,9],[5,10],[6,11],\n",
    "            #          [7,12],[8,13],[9,14],[10,15], [10,16],[11,16],[11,17],[12,17],\n",
    "            #          [12,18],[13,18],[13,19],[14,19]])\n",
    "all_qubits = np.array([[0,5],[0,6]])\n"
   ]
  },
  {
   "cell_type": "code",
   "execution_count": 7,
   "metadata": {},
   "outputs": [
    {
     "name": "stderr",
     "output_type": "stream",
     "text": [
      "\n",
      "\n",
      "  0%|          | 0/4 [00:00<?, ?it/s]\u001b[A\u001b[A"
     ]
    },
    {
     "name": "stdout",
     "output_type": "stream",
     "text": [
      "Running process tomography on the QPU...\n"
     ]
    },
    {
     "name": "stderr",
     "output_type": "stream",
     "text": [
      "/Users/lisatse/anaconda3/lib/python3.6/site-packages/tqdm/_monitor.py:89: TqdmSynchronisationWarning: Set changed size during iteration (see https://github.com/tqdm/tqdm/issues/481)\n",
      "  TqdmSynchronisationWarning)\n",
      "\n",
      "\n",
      " 25%|██▌       | 1/4 [00:01<00:04,  1.61s/it]\u001b[A\u001b[A\n",
      "\n",
      " 50%|█████     | 2/4 [00:03<00:03,  1.54s/it]\u001b[A\u001b[A\n",
      "\n",
      " 75%|███████▌  | 3/4 [00:04<00:01,  1.65s/it]\u001b[A\u001b[A\n",
      "\n",
      "100%|██████████| 4/4 [00:06<00:00,  1.58s/it]\u001b[A\u001b[A\n",
      "\n",
      "\u001b[A\u001b[A\n",
      "\n",
      "  0%|          | 0/4 [00:00<?, ?it/s]\u001b[A\u001b[A\n",
      "\n",
      " 25%|██▌       | 1/4 [00:00<00:02,  1.19it/s]\u001b[A\u001b[A\n",
      "\n",
      " 50%|█████     | 2/4 [00:01<00:01,  1.15it/s]\u001b[A\u001b[A"
     ]
    },
    {
     "name": "stdout",
     "output_type": "stream",
     "text": [
      "job epqkqHMzKryDgLIi is currently running\n"
     ]
    },
    {
     "name": "stderr",
     "output_type": "stream",
     "text": [
      "\n",
      "\n",
      " 75%|███████▌  | 3/4 [00:04<00:01,  1.66s/it]\u001b[A\u001b[A\n",
      "\n",
      "100%|██████████| 4/4 [00:05<00:00,  1.44s/it]\u001b[A\u001b[A\n",
      "\n",
      "\u001b[A\u001b[A\n",
      "\n",
      "  0%|          | 0/256 [00:00<?, ?it/s]\u001b[A\u001b[A\n",
      "\n",
      "  0%|          | 1/256 [00:01<05:03,  1.19s/it]\u001b[A\u001b[A\n",
      "\n",
      "  1%|          | 2/256 [00:02<04:53,  1.16s/it]\u001b[A\u001b[A\n",
      "\n",
      "  1%|          | 3/256 [00:03<05:20,  1.27s/it]\u001b[A\u001b[A\n",
      "\n",
      "  2%|▏         | 4/256 [00:05<05:38,  1.34s/it]\u001b[A\u001b[A\n",
      "\n",
      "  2%|▏         | 5/256 [00:06<05:22,  1.28s/it]\u001b[A\u001b[A\n",
      "\n",
      "  2%|▏         | 6/256 [00:07<05:27,  1.31s/it]\u001b[A\u001b[A\n",
      "\n",
      "  3%|▎         | 7/256 [00:08<05:17,  1.28s/it]\u001b[A\u001b[A\n",
      "\n",
      "  3%|▎         | 8/256 [00:10<05:15,  1.27s/it]\u001b[A\u001b[A\n",
      "\n",
      "  4%|▎         | 9/256 [00:11<05:10,  1.26s/it]\u001b[A\u001b[A\n",
      "\n",
      "  4%|▍         | 10/256 [00:12<05:04,  1.24s/it]\u001b[A\u001b[A\n",
      "\n",
      "  4%|▍         | 11/256 [00:13<05:03,  1.24s/it]\u001b[A\u001b[A"
     ]
    },
    {
     "ename": "UnknownApiError",
     "evalue": "Timeout exceeded: None\n\nThe server has failed to return a proper response. Please describe the problem\nand copy the above message into a GitHub issue at:\n    https://github.com/rigetticomputing/pyquil/issues",
     "output_type": "error",
     "traceback": [
      "\u001b[0;31m---------------------------------------------------------------------------\u001b[0m",
      "\u001b[0;31mUnknownApiError\u001b[0m                           Traceback (most recent call last)",
      "\u001b[0;32m<ipython-input-7-173355d5c543>\u001b[0m in \u001b[0;36m<module>\u001b[0;34m()\u001b[0m\n\u001b[1;32m      8\u001b[0m         \u001b[0;31m#Perform process tomography\u001b[0m\u001b[0;34m\u001b[0m\u001b[0;34m\u001b[0m\u001b[0m\n\u001b[1;32m      9\u001b[0m         \u001b[0mprint\u001b[0m\u001b[0;34m(\u001b[0m\u001b[0;34m\"Running process tomography on the QPU...\"\u001b[0m\u001b[0;34m)\u001b[0m\u001b[0;34m\u001b[0m\u001b[0m\n\u001b[0;32m---> 10\u001b[0;31m         \u001b[0mprocess_tomography_qpu\u001b[0m\u001b[0;34m,\u001b[0m \u001b[0m_\u001b[0m\u001b[0;34m,\u001b[0m \u001b[0m_\u001b[0m \u001b[0;34m=\u001b[0m \u001b[0mdo_process_tomography\u001b[0m\u001b[0;34m(\u001b[0m\u001b[0mCZ_PROGRAM\u001b[0m\u001b[0;34m,\u001b[0m \u001b[0mNUM_SAMPLES\u001b[0m\u001b[0;34m,\u001b[0m \u001b[0mqpu\u001b[0m\u001b[0;34m,\u001b[0m \u001b[0mqubits\u001b[0m\u001b[0;34m)\u001b[0m\u001b[0;34m\u001b[0m\u001b[0m\n\u001b[0m\u001b[1;32m     11\u001b[0m         \u001b[0mprint\u001b[0m\u001b[0;34m(\u001b[0m\u001b[0;34m\"Process tomography completed.\"\u001b[0m\u001b[0;34m)\u001b[0m\u001b[0;34m\u001b[0m\u001b[0m\n\u001b[1;32m     12\u001b[0m         \u001b[0mprint\u001b[0m\u001b[0;34m(\u001b[0m\u001b[0;34m\"Running process tomography on the QVM for reference...\"\u001b[0m\u001b[0;34m)\u001b[0m\u001b[0;34m\u001b[0m\u001b[0m\n",
      "\u001b[0;32m~/anaconda3/lib/python3.6/site-packages/grove/tomography/process_tomography.py\u001b[0m in \u001b[0;36mdo_process_tomography\u001b[0;34m(process, nsamples, cxn, qubits, use_run)\u001b[0m\n\u001b[1;32m    320\u001b[0m                                      \u001b[0mtomography\u001b[0m\u001b[0;34m.\u001b[0m\u001b[0mMAX_QUBITS_PROCESS_TOMO\u001b[0m\u001b[0;34m,\u001b[0m\u001b[0;34m\u001b[0m\u001b[0m\n\u001b[1;32m    321\u001b[0m                                      \u001b[0mProcessTomography\u001b[0m\u001b[0;34m,\u001b[0m \u001b[0mprocess_tomography_programs\u001b[0m\u001b[0;34m,\u001b[0m\u001b[0;34m\u001b[0m\u001b[0m\n\u001b[0;32m--> 322\u001b[0;31m                                      DEFAULT_PROCESS_TOMO_SETTINGS, use_run=use_run)\n\u001b[0m",
      "\u001b[0;32m~/anaconda3/lib/python3.6/site-packages/grove/tomography/tomography.py\u001b[0m in \u001b[0;36m_do_tomography\u001b[0;34m(target_program, nsamples, cxn, qubits, max_num_qubits, tomography_class, program_generator, settings, use_run)\u001b[0m\n\u001b[1;32m    216\u001b[0m                                       qubits, nsamples))\n\u001b[1;32m    217\u001b[0m         \u001b[0;32melse\u001b[0m\u001b[0;34m:\u001b[0m\u001b[0;34m\u001b[0m\u001b[0m\n\u001b[0;32m--> 218\u001b[0;31m             \u001b[0mjobs\u001b[0m\u001b[0;34m.\u001b[0m\u001b[0mappend\u001b[0m\u001b[0;34m(\u001b[0m\u001b[0mcxn\u001b[0m\u001b[0;34m.\u001b[0m\u001b[0mrun_and_measure_async\u001b[0m\u001b[0;34m(\u001b[0m\u001b[0mtomo_prog\u001b[0m\u001b[0;34m,\u001b[0m \u001b[0mqubits\u001b[0m\u001b[0;34m,\u001b[0m \u001b[0mnsamples\u001b[0m\u001b[0;34m)\u001b[0m\u001b[0;34m)\u001b[0m\u001b[0;34m\u001b[0m\u001b[0m\n\u001b[0m\u001b[1;32m    219\u001b[0m     \u001b[0m_log\u001b[0m\u001b[0;34m.\u001b[0m\u001b[0minfo\u001b[0m\u001b[0;34m(\u001b[0m\u001b[0;34m'Waiting for results...'\u001b[0m\u001b[0;34m)\u001b[0m\u001b[0;34m\u001b[0m\u001b[0m\n\u001b[1;32m    220\u001b[0m     \u001b[0;32mfor\u001b[0m \u001b[0mi\u001b[0m\u001b[0;34m,\u001b[0m \u001b[0mjob_id\u001b[0m \u001b[0;32min\u001b[0m \u001b[0mizip\u001b[0m\u001b[0;34m(\u001b[0m\u001b[0mut\u001b[0m\u001b[0;34m.\u001b[0m\u001b[0mTRANGE\u001b[0m\u001b[0;34m(\u001b[0m\u001b[0mlen\u001b[0m\u001b[0;34m(\u001b[0m\u001b[0mjobs\u001b[0m\u001b[0;34m)\u001b[0m\u001b[0;34m)\u001b[0m\u001b[0;34m,\u001b[0m \u001b[0mjobs\u001b[0m\u001b[0;34m)\u001b[0m\u001b[0;34m:\u001b[0m\u001b[0;34m\u001b[0m\u001b[0m\n",
      "\u001b[0;32m~/anaconda3/lib/python3.6/site-packages/pyquil/api/qvm.py\u001b[0m in \u001b[0;36mrun_and_measure_async\u001b[0;34m(self, quil_program, qubits, trials, needs_compilation, isa)\u001b[0m\n\u001b[1;32m    204\u001b[0m         \u001b[0mSee\u001b[0m \u001b[0mhttps\u001b[0m\u001b[0;34m:\u001b[0m\u001b[0;34m//\u001b[0m\u001b[0mgo\u001b[0m\u001b[0;34m.\u001b[0m\u001b[0mrigetti\u001b[0m\u001b[0;34m.\u001b[0m\u001b[0mcom\u001b[0m\u001b[0;34m/\u001b[0m\u001b[0mconnections\u001b[0m \u001b[0;32mfor\u001b[0m \u001b[0mreasons\u001b[0m \u001b[0mto\u001b[0m \u001b[0muse\u001b[0m \u001b[0mthis\u001b[0m \u001b[0mmethod\u001b[0m\u001b[0;34m.\u001b[0m\u001b[0;34m\u001b[0m\u001b[0m\n\u001b[1;32m    205\u001b[0m         \"\"\"\n\u001b[0;32m--> 206\u001b[0;31m         \u001b[0mpayload\u001b[0m \u001b[0;34m=\u001b[0m \u001b[0mself\u001b[0m\u001b[0;34m.\u001b[0m\u001b[0m_run_and_measure_payload\u001b[0m\u001b[0;34m(\u001b[0m\u001b[0mquil_program\u001b[0m\u001b[0;34m,\u001b[0m \u001b[0mqubits\u001b[0m\u001b[0;34m,\u001b[0m \u001b[0mtrials\u001b[0m\u001b[0;34m,\u001b[0m \u001b[0mneeds_compilation\u001b[0m\u001b[0;34m,\u001b[0m \u001b[0misa\u001b[0m\u001b[0;34m)\u001b[0m\u001b[0;34m\u001b[0m\u001b[0m\n\u001b[0m\u001b[1;32m    207\u001b[0m         \u001b[0mresponse\u001b[0m \u001b[0;34m=\u001b[0m \u001b[0mpost_json\u001b[0m\u001b[0;34m(\u001b[0m\u001b[0mself\u001b[0m\u001b[0;34m.\u001b[0m\u001b[0msession\u001b[0m\u001b[0;34m,\u001b[0m \u001b[0mself\u001b[0m\u001b[0;34m.\u001b[0m\u001b[0masync_endpoint\u001b[0m \u001b[0;34m+\u001b[0m \u001b[0;34m\"/job\"\u001b[0m\u001b[0;34m,\u001b[0m \u001b[0;34m{\u001b[0m\u001b[0;34m\"machine\"\u001b[0m\u001b[0;34m:\u001b[0m \u001b[0;34m\"QVM\"\u001b[0m\u001b[0;34m,\u001b[0m \u001b[0;34m\"program\"\u001b[0m\u001b[0;34m:\u001b[0m \u001b[0mpayload\u001b[0m\u001b[0;34m}\u001b[0m\u001b[0;34m)\u001b[0m\u001b[0;34m\u001b[0m\u001b[0m\n\u001b[1;32m    208\u001b[0m         \u001b[0;32mreturn\u001b[0m \u001b[0mget_job_id\u001b[0m\u001b[0;34m(\u001b[0m\u001b[0mresponse\u001b[0m\u001b[0;34m)\u001b[0m\u001b[0;34m\u001b[0m\u001b[0m\n",
      "\u001b[0;32m~/anaconda3/lib/python3.6/site-packages/pyquil/api/qvm.py\u001b[0m in \u001b[0;36m_run_and_measure_payload\u001b[0;34m(self, quil_program, qubits, trials, needs_compilation, isa)\u001b[0m\n\u001b[1;32m    218\u001b[0m \u001b[0;34m\u001b[0m\u001b[0m\n\u001b[1;32m    219\u001b[0m         \u001b[0;32mif\u001b[0m \u001b[0mself\u001b[0m\u001b[0;34m.\u001b[0m\u001b[0mnoise_model\u001b[0m \u001b[0;32mis\u001b[0m \u001b[0;32mnot\u001b[0m \u001b[0;32mNone\u001b[0m\u001b[0;34m:\u001b[0m\u001b[0;34m\u001b[0m\u001b[0m\n\u001b[0;32m--> 220\u001b[0;31m             \u001b[0mcompiled_program\u001b[0m \u001b[0;34m=\u001b[0m \u001b[0mself\u001b[0m\u001b[0;34m.\u001b[0m\u001b[0mcompiler\u001b[0m\u001b[0;34m.\u001b[0m\u001b[0mcompile\u001b[0m\u001b[0;34m(\u001b[0m\u001b[0mquil_program\u001b[0m\u001b[0;34m)\u001b[0m\u001b[0;34m\u001b[0m\u001b[0m\n\u001b[0m\u001b[1;32m    221\u001b[0m             \u001b[0mquil_program\u001b[0m \u001b[0;34m=\u001b[0m \u001b[0mapply_noise_model\u001b[0m\u001b[0;34m(\u001b[0m\u001b[0mcompiled_program\u001b[0m\u001b[0;34m,\u001b[0m \u001b[0mself\u001b[0m\u001b[0;34m.\u001b[0m\u001b[0mnoise_model\u001b[0m\u001b[0;34m)\u001b[0m\u001b[0;34m\u001b[0m\u001b[0m\n\u001b[1;32m    222\u001b[0m \u001b[0;34m\u001b[0m\u001b[0m\n",
      "\u001b[0;32m~/anaconda3/lib/python3.6/site-packages/pyquil/api/compiler.py\u001b[0m in \u001b[0;36mcompile\u001b[0;34m(self, quil_program)\u001b[0m\n\u001b[1;32m    108\u001b[0m         \u001b[0;32melse\u001b[0m\u001b[0;34m:\u001b[0m\u001b[0;34m\u001b[0m\u001b[0m\n\u001b[1;32m    109\u001b[0m             response = post_json(self.session, self.sync_endpoint + \"/quilc\",\n\u001b[0;32m--> 110\u001b[0;31m                                  payload)\n\u001b[0m\u001b[1;32m    111\u001b[0m             \u001b[0;32mreturn\u001b[0m \u001b[0mparse_program\u001b[0m\u001b[0;34m(\u001b[0m\u001b[0mresponse\u001b[0m\u001b[0;34m.\u001b[0m\u001b[0mjson\u001b[0m\u001b[0;34m(\u001b[0m\u001b[0;34m)\u001b[0m\u001b[0;34m[\u001b[0m\u001b[0;34m'compiled-quil'\u001b[0m\u001b[0;34m]\u001b[0m\u001b[0;34m)\u001b[0m\u001b[0;34m\u001b[0m\u001b[0m\n\u001b[1;32m    112\u001b[0m \u001b[0;34m\u001b[0m\u001b[0m\n",
      "\u001b[0;32m~/anaconda3/lib/python3.6/site-packages/pyquil/api/_base_connection.py\u001b[0m in \u001b[0;36mpost_json\u001b[0;34m(session, url, json)\u001b[0m\n\u001b[1;32m     86\u001b[0m     \u001b[0mres\u001b[0m \u001b[0;34m=\u001b[0m \u001b[0msession\u001b[0m\u001b[0;34m.\u001b[0m\u001b[0mpost\u001b[0m\u001b[0;34m(\u001b[0m\u001b[0murl\u001b[0m\u001b[0;34m,\u001b[0m \u001b[0mjson\u001b[0m\u001b[0;34m=\u001b[0m\u001b[0mjson\u001b[0m\u001b[0;34m)\u001b[0m\u001b[0;34m\u001b[0m\u001b[0m\n\u001b[1;32m     87\u001b[0m     \u001b[0;32mif\u001b[0m \u001b[0mres\u001b[0m\u001b[0;34m.\u001b[0m\u001b[0mstatus_code\u001b[0m \u001b[0;34m>=\u001b[0m \u001b[0;36m400\u001b[0m\u001b[0;34m:\u001b[0m\u001b[0;34m\u001b[0m\u001b[0m\n\u001b[0;32m---> 88\u001b[0;31m         \u001b[0;32mraise\u001b[0m \u001b[0mparse_error\u001b[0m\u001b[0;34m(\u001b[0m\u001b[0mres\u001b[0m\u001b[0;34m)\u001b[0m\u001b[0;34m\u001b[0m\u001b[0m\n\u001b[0m\u001b[1;32m     89\u001b[0m     \u001b[0;32mreturn\u001b[0m \u001b[0mres\u001b[0m\u001b[0;34m\u001b[0m\u001b[0m\n\u001b[1;32m     90\u001b[0m \u001b[0;34m\u001b[0m\u001b[0m\n",
      "\u001b[0;31mUnknownApiError\u001b[0m: Timeout exceeded: None\n\nThe server has failed to return a proper response. Please describe the problem\nand copy the above message into a GitHub issue at:\n    https://github.com/rigetticomputing/pyquil/issues"
     ]
    }
   ],
   "source": [
    "NUM_SAMPLES = 10\n",
    "dead_qubits = [2,3,15,18]\n",
    "for qubits in all_qubits:\n",
    "    if len(np.intersect1d(qubits,dead_qubits))==0:\n",
    "        qubits = qubits.tolist()\n",
    "        CZ_PROGRAM = Program([CZ(qubits[0], qubits[1])])\n",
    "\n",
    "        #Perform process tomography\n",
    "        print(\"Running process tomography on the QPU...\")\n",
    "        process_tomography_qpu, _, _ = do_process_tomography(CZ_PROGRAM, NUM_SAMPLES, qpu, qubits)\n",
    "        print(\"Process tomography completed.\")\n",
    "        print(\"Running process tomography on the QVM for reference...\")\n",
    "        process_tomography_qvm, _, _ = do_process_tomography(CZ_PROGRAM, NUM_SAMPLES, qvm, qubits)\n",
    "        print(\"Process tomography completed.\")\n",
    "\n",
    "        print(process_tomography_qpu.r_est)\n",
    "        print(process_tomography_qvm.r_est)\n",
    "        process_fidelity = process_tomography_qpu.avg_gate_fidelity(process_tomography_qvm.r_est)\n",
    "\n",
    "\n",
    "        qpu_plot = process_tomography_qpu.plot()\n",
    "        qpu_plot.text(0.4, .95, r'$F_{{\\rm avg}}={:1.1f}\\%$'.format(process_fidelity*100), size=25)\n",
    "\n",
    "        process_tomography_qvm.plot()\n",
    "        plt.close()"
   ]
  },
  {
   "cell_type": "code",
   "execution_count": null,
   "metadata": {},
   "outputs": [],
   "source": []
  }
 ],
 "metadata": {
  "kernelspec": {
   "display_name": "Python 3",
   "language": "python",
   "name": "python3"
  },
  "language_info": {
   "codemirror_mode": {
    "name": "ipython",
    "version": 3
   },
   "file_extension": ".py",
   "mimetype": "text/x-python",
   "name": "python",
   "nbconvert_exporter": "python",
   "pygments_lexer": "ipython3",
   "version": "3.6.4"
  }
 },
 "nbformat": 4,
 "nbformat_minor": 2
}
